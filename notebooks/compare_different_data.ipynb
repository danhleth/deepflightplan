{
 "cells": [
  {
   "cell_type": "code",
   "execution_count": 1,
   "id": "41d2afc6",
   "metadata": {},
   "outputs": [],
   "source": [
    "import pandas as pd\n",
    "from pathlib import Path\n",
    "from itertools import combinations"
   ]
  },
  {
   "cell_type": "code",
   "execution_count": 21,
   "id": "2ece9756",
   "metadata": {},
   "outputs": [],
   "source": [
    "airport_data_path = \"/home/danhle/AIATFM/data_preparation/deepflightplan/datasets/airports/iata-icao.csv\""
   ]
  },
  {
   "cell_type": "code",
   "execution_count": 22,
   "id": "a132ad4a",
   "metadata": {},
   "outputs": [
    {
     "name": "stdout",
     "output_type": "stream",
     "text": [
      "/home/shared/data/oag/OAG_Jan1toJan152024/EU_Jan01Jan152024_JobId3284708.csv\n",
      "/home/shared/data/oag/OAG_Jan1toJan152024/AfricaJan01Jan152024_JobId3284838.csv\n",
      "/home/shared/data/oag/OAG_Jan1toJan152024/NA_Jan01toJan152024_JobId3284834.csv\n",
      "/home/shared/data/oag/OAG_Jan1toJan152024/LA_Jan01Jan152024_JobId3284839.csv\n",
      "/home/shared/data/oag/OAG_Jan1toJan152024/ME_Jan01toJan152024_JobId3284835.csv\n",
      "/home/shared/data/oag/OAG_Jan1toJan152024/SW_Jan01toJan152024_JobId3284714.csv\n",
      "before drop duplicate df:  1090727\n",
      "after drop duplicate df: 977919\n"
     ]
    }
   ],
   "source": [
    "data_dir = Path(\"/home/shared/data/oag/OAG_Jan1toJan152024\").glob(\"*Jan152024*\")\n",
    "df = pd.DataFrame()\n",
    "for file in data_dir:\n",
    "    if file.is_file():\n",
    "        print(file)\n",
    "        tmp = pd.read_csv(file)\n",
    "        df = pd.concat([df, tmp], ignore_index=True)\n",
    "\n",
    "df = df.sort_values(by=['Time series'])\n",
    "df.reset_index(drop=True, inplace=True)\n",
    "print(\"before drop duplicate df: \", len(df))\n",
    "df.drop_duplicates(inplace=True)\n",
    "print(\"after drop duplicate df:\",len(df))"
   ]
  },
  {
   "cell_type": "code",
   "execution_count": 23,
   "id": "6d21cfdb",
   "metadata": {},
   "outputs": [
    {
     "name": "stdout",
     "output_type": "stream",
     "text": [
      "srinivas method:  977919\n",
      "Minh's data:  1413601\n"
     ]
    }
   ],
   "source": [
    "df1 = df.copy()\n",
    "\n",
    "df2 = pd.read_csv('/home/shared/data/oag/2024jan1_15_asean.zip', compression='zip')\n",
    "df1.drop(columns=list(set(df1.columns) - set(df2.columns)), inplace=True)\n",
    "\n",
    "print(\"srinivas method: \", len(df1))\n",
    "print(\"Minh's data: \", len(df2))"
   ]
  },
  {
   "cell_type": "code",
   "execution_count": 24,
   "id": "9316f85c",
   "metadata": {},
   "outputs": [
    {
     "data": {
      "text/plain": [
       "Index(['Carrier Code', 'Dep Airport Code', 'Dep Airport Name', 'Dep City Name',\n",
       "       'Dep DOT Country Name', 'Dep Region Name', 'Arr City Name',\n",
       "       'Arr Airport Code', 'Arr Airport Name', 'Arr DOT Country Name',\n",
       "       'Arr Region Name', 'International/Domestic', 'Flying Time',\n",
       "       'Elapsed Time', 'Local Dep Time', 'Local Arr Time',\n",
       "       'Specific Aircraft Code', 'General Aircraft Code',\n",
       "       'Aircraft Range (km)', 'Seats', 'GCD (km)', 'GCD (NM)', 'Routing',\n",
       "       'Aircraft Cruise Speed (MPH)', 'Aircraft Hold Volume (M3)', 'Flight No',\n",
       "       'Carrier Name', 'FlyingTime (Minutes)', 'Economy seats (Total)',\n",
       "       'Business seats (Total)', 'Seats (Total)', 'Time series'],\n",
       "      dtype='object')"
      ]
     },
     "execution_count": 24,
     "metadata": {},
     "output_type": "execute_result"
    }
   ],
   "source": [
    "df3 = pd.read_csv('/home/shared/data/oag/202401.zip', compression='zip')\n",
    "df3.columns"
   ]
  },
  {
   "cell_type": "code",
   "execution_count": 25,
   "id": "3c249053",
   "metadata": {},
   "outputs": [],
   "source": [
    "def filter_df_by_time_range(df, start_time=\"2024-01-01\", end_time=\"2024-01-01\"):\n",
    "    df['Time series'] = pd.to_datetime(df['Time series'], format=\"%Y-%m-%d\")\n",
    "    mask = (df['Time series'] >= start_time) & (df['Time series'] <= end_time)\n",
    "    return df.loc[mask]\n",
    "\n",
    "\n",
    "df1 = filter_df_by_time_range(df1, start_time=\"2024-01-01\", end_time=\"2024-01-15\")\n",
    "df2 = filter_df_by_time_range(df2, start_time=\"2024-01-01\", end_time=\"2024-01-15\")\n",
    "df3 = filter_df_by_time_range(df3, start_time=\"2024-01-01\", end_time=\"2024-01-15\")"
   ]
  },
  {
   "cell_type": "code",
   "execution_count": 26,
   "id": "c3c2d8bd",
   "metadata": {},
   "outputs": [],
   "source": [
    "df1.columns = sorted(df1.columns)\n",
    "df2.columns = sorted(df2.columns)\n",
    "df3.columns = sorted(df3.columns)\n",
    "\n",
    "intersection_columns = list(set(df1.columns) & set(df2.columns) & set(df3.columns))\n",
    "df1 = df1[intersection_columns]\n",
    "df2 = df2[intersection_columns]\n",
    "df3 = df3[intersection_columns]"
   ]
  },
  {
   "cell_type": "code",
   "execution_count": 30,
   "id": "55619b7d",
   "metadata": {},
   "outputs": [],
   "source": [
    "# Union of two dataframes\n",
    "# Convert dataframes to sets of tuples\n",
    "\n",
    "def union_rows(df1,df2):\n",
    "    rows_df1 = set(df1.itertuples(index=False, name=None))\n",
    "    rows_df2 = set(df2.itertuples(index=False, name=None))\n",
    "\n",
    "    # Perform union\n",
    "    union_rows = rows_df1 | rows_df2\n",
    "    union_df = pd.DataFrame(list(union_rows), columns=df1.columns)\n",
    "    return union_df\n"
   ]
  },
  {
   "cell_type": "code",
   "execution_count": 31,
   "id": "62f578a6",
   "metadata": {},
   "outputs": [],
   "source": [
    "def intersection_rows(df1,df2):\n",
    "    rows_df1 = set(df1.itertuples(index=False, name=None))\n",
    "    rows_df2 = set(df2.itertuples(index=False, name=None))\n",
    "\n",
    "    # Perform intersection\n",
    "    intersection_rows = rows_df1 & rows_df2\n",
    "    intersection_df = pd.DataFrame(list(intersection_rows), columns=df1.columns)\n",
    "    return intersection_df"
   ]
  },
  {
   "cell_type": "code",
   "execution_count": 32,
   "id": "fb2c4421",
   "metadata": {},
   "outputs": [],
   "source": [
    "def subtract_rows(df1,df2):\n",
    "    rows_df1 = set(df1.itertuples(index=False, name=None))\n",
    "    rows_df2 = set(df2.itertuples(index=False, name=None))\n",
    "\n",
    "    # Perform subtraction\n",
    "    subtract_rows = rows_df1 - rows_df2\n",
    "    subtract_df = pd.DataFrame(list(subtract_rows), columns=df1.columns)\n",
    "    return subtract_df"
   ]
  },
  {
   "cell_type": "code",
   "execution_count": 54,
   "id": "c269a617",
   "metadata": {},
   "outputs": [
    {
     "name": "stdout",
     "output_type": "stream",
     "text": [
      "Intersection of srinivas and minh:  0 srinivas:  1561 minh:  30295\n",
      "Intersection of srinivas and trunghoang:  0 srinivas:  1561 trunghoang:  0\n",
      "Intersection of srinivas and df_danh:  0 srinivas:  1561 df_danh:  51531\n",
      "Intersection of srinivas and df_danh_no_codeshare:  0 srinivas:  1561 df_danh_no_codeshare:  31915\n",
      "Intersection of srinivas and danh_simple:  0 srinivas:  1561 danh_simple:  51585\n",
      "Intersection of minh and trunghoang:  0 minh:  30295 trunghoang:  0\n",
      "Intersection of minh and df_danh:  0 minh:  30295 df_danh:  51531\n",
      "Intersection of minh and df_danh_no_codeshare:  0 minh:  30295 df_danh_no_codeshare:  31915\n",
      "Intersection of minh and danh_simple:  0 minh:  30295 danh_simple:  51585\n",
      "Intersection of trunghoang and df_danh:  0 trunghoang:  0 df_danh:  51531\n",
      "Intersection of trunghoang and df_danh_no_codeshare:  0 trunghoang:  0 df_danh_no_codeshare:  31915\n",
      "Intersection of trunghoang and danh_simple:  0 trunghoang:  0 danh_simple:  51585\n",
      "Intersection of df_danh and df_danh_no_codeshare:  0 df_danh:  51531 df_danh_no_codeshare:  31915\n",
      "Intersection of df_danh and danh_simple:  51531 df_danh:  51531 danh_simple:  51585\n",
      "Intersection of df_danh_no_codeshare and danh_simple:  0 df_danh_no_codeshare:  31915 danh_simple:  51585\n"
     ]
    }
   ],
   "source": [
    "df_danh = pd.read_csv(\"/home/danhle/AIATFM/AS_Jan012024_JobId3290812.csv\")\n",
    "df_danh_no_codeshare = pd.read_csv(\"/home/danhle/AIATFM/AS_Jan012024_nocodsh_JobId3290816.csv\")\n",
    "df_danh_simple = pd.read_csv(\"/home/danhle/AIATFM/AS_Jun012024_Simple_JobId3290891.csv\")\n",
    "intersection_columns = list(set(df_danh.columns) & set(df_danh_no_codeshare.columns) & set(df1.columns) & set(df2.columns) & set(df3.columns) & set(df_danh_simple.columns))\n",
    "\n",
    "df_danh = df_danh[intersection_columns]\n",
    "df_danh_no_codeshare = df_danh_no_codeshare[intersection_columns]\n",
    "df_danh_simple = df_danh_simple[intersection_columns]\n",
    "df_danh['Time series'] = pd.to_datetime(df_danh['Time series'], format=\"%Y-%m-%d\")\n",
    "df_danh_no_codeshare['Time series'] = pd.to_datetime(df_danh_no_codeshare['Time series'], format=\"%Y-%m-%d\")\n",
    "df_danh[\"Time series\"] = df_danh[\"Time series\"].dt.strftime(\"%Y-%m-%d\")\n",
    "\n",
    "df_danh.columns = sorted(df_danh.columns)\n",
    "df_danh_no_codeshare.columns = sorted(df_danh_no_codeshare.columns)\n",
    "\n",
    "intersection_df = intersection_rows(df_danh, df_danh_no_codeshare)\n",
    "# print(\"Intersection of df_danh and df_danh_no_codeshare: \", len(intersection_df))\n",
    "# print(\"Substraction of df_danh and df_danh_no_codeshare: \", len(subtract_rows(df_danh, df_danh_no_codeshare)))\n",
    "# print(\"Subtraction of df_danh_no_codeshare and df_danh: \", len(subtract_rows(df_danh_no_codeshare, df_danh)))\n",
    "\n",
    "\n",
    "asia_region = ['Asia : North East Asia', 'Asia : South Asia', 'Asia : South East Asia', 'Asia : Central Asia']\n",
    "\n",
    "# compare with df1, df2, df3\n",
    "# tmp_df1 = filter_df_by_time_range(df1, start_time=\"2024-01-01\", end_time=\"2024-01-01\")\n",
    "# tmp_df2 = filter_df_by_time_range(df2, start_time=\"2024-01-01\", end_time=\"2024-01-01\")\n",
    "# tmp_df3 = filter_df_by_time_range(df3, start_time=\"2024-01-01\", end_time=\"2024-01-01\")\n",
    "\n",
    "# Filter region asia from df1, df2, df3\n",
    "# tmp_df1 = tmp_df1[tmp_df1['Arr Region Name'].isin(asia_region) | tmp_df1['Dep Region Name'].isin(asia_region)]\n",
    "# tmp_df2 = tmp_df2[tmp_df2['Arr Region Name'].isin(asia_region) | tmp_df2['Dep Region Name'].isin(asia_region)]\n",
    "# tmp_df3 = tmp_df3[tmp_df3['Arr Region Name'].isin(asia_region) | tmp_df3['Dep Region Name'].isin(asia_region)]\n",
    "\n",
    "\n",
    "list_of_dfs_and_names = [\n",
    "    (tmp_df1, \"srinivas\"),\n",
    "    (tmp_df2, \"minh\"),\n",
    "    (tmp_df3, \"trunghoang\"),\n",
    "    (df_danh, \"df_danh\"),\n",
    "    (df_danh_no_codeshare, \"df_danh_no_codeshare\"),\n",
    "    (df_danh_simple, \"danh_simple\"),\n",
    "]\n",
    "\n",
    "for (df1, name1), (df2, name2) in combinations(list_of_dfs_and_names, 2):\n",
    "    # Perform union\n",
    "    # union_df = union_rows(df1, df2)\n",
    "    # print(f\"Union of {name1} and {name2}: \", len(union_df))\n",
    "\n",
    "    # Perform intersection\n",
    "    intersection_df = intersection_rows(df1, df2)\n",
    "    print(f\"Intersection of {name1} and {name2}: \", len(intersection_df), f\"{name1}: \", len(df1), f\"{name2}: \", len(df2))\n",
    "\n",
    "    # Perform subtraction\n",
    "    # subtract_df = subtract_rows(df1, df2)\n",
    "    # print(f\"Subtraction of {name1} and {name2}: \", len(subtract_df))\n",
    "\n",
    "\n"
   ]
  },
  {
   "cell_type": "code",
   "execution_count": 48,
   "id": "8bf5a55d",
   "metadata": {},
   "outputs": [
    {
     "data": {
      "text/plain": [
       "(31915, 51531)"
      ]
     },
     "execution_count": 48,
     "metadata": {},
     "output_type": "execute_result"
    }
   ],
   "source": [
    "len(df_danh_no_codeshare), len(df_danh)"
   ]
  },
  {
   "cell_type": "code",
   "execution_count": 33,
   "id": "bb82bf18",
   "metadata": {},
   "outputs": [
    {
     "name": "stdout",
     "output_type": "stream",
     "text": [
      "Union of Srinivas and Minh:  2391520\n",
      "Intersection of Srinivas and Minh:  0\n",
      "Subtract of Srinivas and Minh:  977919\n",
      "Subtract of Minh and Srinivas:  1413601\n"
     ]
    }
   ],
   "source": [
    "# Perform union, intersection, and subtraction of df1 and df2\n",
    "union_df = union_rows(df1, df2)\n",
    "intersection_df = intersection_rows(df1, df2)\n",
    "print(\"Union of Srinivas and Minh: \", len(union_df))\n",
    "print(\"Intersection of Srinivas and Minh: \", len(intersection_df))\n",
    "print(\"Subtract of Srinivas and Minh: \", len(subtract_rows(df1, df2))) \n",
    "print(\"Subtract of Minh and Srinivas: \", len(subtract_rows(df2, df1)))"
   ]
  },
  {
   "cell_type": "code",
   "execution_count": 34,
   "id": "0d04749d",
   "metadata": {},
   "outputs": [
    {
     "name": "stdout",
     "output_type": "stream",
     "text": [
      "Union of Minh and Trung-Hoang:  2168498\n",
      "Intersection of Minh and Trung-Hoang:  0\n",
      "Subtract of Minh and Trung-Hoang:  1413601\n",
      "Subtract of Trung-Hoang and Minh:  754897\n"
     ]
    }
   ],
   "source": [
    "# Perform union, intersection, and subtraction of df2 and df3\n",
    "union_df = union_rows(df2, df3)\n",
    "intersection_df = intersection_rows(df2, df3)\n",
    "print(\"Union of Minh and Trung-Hoang: \", len(union_df))\n",
    "print(\"Intersection of Minh and Trung-Hoang: \", len(intersection_df))\n",
    "print(\"Subtract of Minh and Trung-Hoang: \", len(subtract_rows(df2, df3))) \n",
    "print(\"Subtract of Trung-Hoang and Minh: \", len(subtract_rows(df3, df2)))"
   ]
  },
  {
   "cell_type": "code",
   "execution_count": 35,
   "id": "1b78498e",
   "metadata": {},
   "outputs": [
    {
     "name": "stdout",
     "output_type": "stream",
     "text": [
      "Union of Srinivas and Trung-Hoang:  1732816\n",
      "Intersection of Srinivas and Trung-Hoang:  0\n",
      "Subtract of Srinivas and Trung-Hoang:  977919\n",
      "Subtract of Trung-Hoang and Srinivas:  754897\n"
     ]
    }
   ],
   "source": [
    "# Perform union, intersection, and subtraction of df1 and df3\n",
    "union_df = union_rows(df1, df3)\n",
    "intersection_df = intersection_rows(df1, df3)\n",
    "print(\"Union of Srinivas and Trung-Hoang: \", len(union_df))\n",
    "print(\"Intersection of Srinivas and Trung-Hoang: \", len(intersection_df))\n",
    "print(\"Subtract of Srinivas and Trung-Hoang: \", len(subtract_rows(df1, df3))) \n",
    "print(\"Subtract of Trung-Hoang and Srinivas: \", len(subtract_rows(df3, df1)))"
   ]
  },
  {
   "cell_type": "code",
   "execution_count": null,
   "id": "dfbeda18",
   "metadata": {},
   "outputs": [],
   "source": []
  }
 ],
 "metadata": {
  "kernelspec": {
   "display_name": "aiatfm",
   "language": "python",
   "name": "python3"
  },
  "language_info": {
   "codemirror_mode": {
    "name": "ipython",
    "version": 3
   },
   "file_extension": ".py",
   "mimetype": "text/x-python",
   "name": "python",
   "nbconvert_exporter": "python",
   "pygments_lexer": "ipython3",
   "version": "3.11.10"
  }
 },
 "nbformat": 4,
 "nbformat_minor": 5
}
