{
 "cells": [
  {
   "cell_type": "code",
   "execution_count": 1,
   "id": "c5c5c1d9",
   "metadata": {},
   "outputs": [],
   "source": [
    "import pandas as pd\n",
    "import numpy as np\n",
    "from scipy.spatial import cKDTree\n",
    "from geopy.distance import geodesic\n",
    "import os\n",
    "from pathlib import Path\n",
    "from dioscuri.datasets import Lido21EnrouteAirwayDataset\n",
    "from dioscuri.distance import GeopyGreatCircleDistance"
   ]
  },
  {
   "cell_type": "code",
   "execution_count": 2,
   "id": "590b078f",
   "metadata": {},
   "outputs": [],
   "source": [
    "ADS_B_path = \"/home/shared/ATM Data/ADS-B\""
   ]
  },
  {
   "cell_type": "code",
   "execution_count": null,
   "id": "db3f0f0f",
   "metadata": {},
   "outputs": [],
   "source": [
    "# historical_date_flight_data_path = \"/home/shared/ATM Data/ADS-B/202410/20241001_l3_a.csv.gz\"\n",
    "# historical_date_flight_data = pd.read_csv(historical_date_flight_data_path)"
   ]
  },
  {
   "cell_type": "code",
   "execution_count": null,
   "id": "1be1917e",
   "metadata": {},
   "outputs": [
    {
     "data": {
      "text/plain": [
       "Index(['source', 'UTC', 'source_SIC', 'source_SAC', '130:Latitude',\n",
       "       '130:Longitude', '131:Latitude', '131:Longitude', '150:IM',\n",
       "       '150:AirSpeed', '073:071_073TimeforPos', '080:TargetAdd', '090:NUCr',\n",
       "       '090:NUCp', '140:GeometricHeight', '152:MagneticHeading', '157:RE',\n",
       "       '157:GVR', '160:RE', '160:GS', '160:TA', '170:TargetID', '220:WS',\n",
       "       '220:WD', '220:TMPS', '220:TRB'],\n",
       "      dtype='object')"
      ]
     },
     "execution_count": 4,
     "metadata": {},
     "output_type": "execute_result"
    }
   ],
   "source": [
    "# historical_date_flight_data.columns"
   ]
  },
  {
   "cell_type": "code",
   "execution_count": null,
   "id": "3764a655",
   "metadata": {},
   "outputs": [
    {
     "data": {
      "text/plain": [
       "True"
      ]
     },
     "execution_count": 5,
     "metadata": {},
     "output_type": "execute_result"
    }
   ],
   "source": [
    "# check len(130_lat_long) == len(~131_lat_long) -> determine if 130 or 131 is used\n",
    "# len(historical_date_flight_data[historical_date_flight_data['130:Latitude'].isna() & historical_date_flight_data['130:Longitude'].isna()]) == len(historical_date_flight_data[~historical_date_flight_data['131:Latitude'].isna() & ~historical_date_flight_data['131:Longitude'].isna()])\n",
    "# (len(historical_date_flight_data[historical_date_flight_data['130:Latitude'].isna() & historical_date_flight_data['130:Longitude'].isna()]) + len(historical_date_flight_data[historical_date_flight_data['131:Latitude'].isna() & historical_date_flight_data['131:Longitude'].isna()])) == len(historical_date_flight_data)\n"
   ]
  },
  {
   "cell_type": "code",
   "execution_count": 3,
   "id": "3f176dc5",
   "metadata": {},
   "outputs": [],
   "source": [
    "def build_node_coordinates_array(graph):\n",
    "    \"\"\"\n",
    "    Build arrays of node IDs and their coordinates from the graph.\n",
    "    \n",
    "    Parameters:\n",
    "    - graph: NetworkX graph with nodes having tools like 'lat' and 'lon' attributes.\n",
    "    \n",
    "    Returns:\n",
    "    - node_ids: List of node identifiers.\n",
    "    - coords: Array of [lat, lon] coordinates.\n",
    "    \"\"\"\n",
    "    node_ids = []\n",
    "    coords = []\n",
    "    for node in graph.nodes():\n",
    "        node_ids.append(node)\n",
    "        coords.append([graph.nodes[node]['lat'], graph.nodes[node]['long']])\n",
    "    return node_ids, np.array(coords)\n",
    "\n",
    "def find_closest_nodes(graph, points):\n",
    "    \"\"\"\n",
    "    Find the closest node for each point using cKDTree.\n",
    "    \n",
    "    Parameters:\n",
    "    - graph: NetworkX graph with nodes having 'lat' and 'lon' attributes.\n",
    "    - points: Array of [lat, lon] coordinates.\n",
    "    \n",
    "    Returns:\n",
    "    - closest_nodes: List of closest node IDs.\n",
    "    - closest_lats: List of latitudes of closest nodes.\n",
    "    - closest_lons: List of longitudes of closest nodes.\n",
    "    \"\"\"\n",
    "    node_ids, node_coords = build_node_coordinates_array(graph)\n",
    "    tree = cKDTree(node_coords)\n",
    "    _, indices = tree.query(points, k=1)\n",
    "    closest_nodes = [node_ids[i] for i in indices]\n",
    "    closest_lats = [node_coords[i][0] for i in indices]\n",
    "    closest_lons = [node_coords[i][1] for i in indices]\n",
    "    return closest_nodes, closest_lats, closest_lons\n",
    "\n",
    "def assign_closest_nodes(df, graph):\n",
    "    \"\"\"\n",
    "    Assign the closest node from the graph to each row in the DataFrame based on latitude and longitude.\n",
    "    \n",
    "    Parameters:\n",
    "    - df: DataFrame with columns '130:Latitude', '130:Longitude', '131:Latitude', '131:Longitude'.\n",
    "    - graph: NetworkX graph with nodes having 'lat' and 'lon' attributes.\n",
    "    \n",
    "    Returns:\n",
    "    - DataFrame with added columns 'closest_node', 'closest_node_lat', 'closest_node_lon'.\n",
    "    \"\"\"\n",
    "    # Create a copy to avoid modifying the original DataFrame\n",
    "    df = df.copy()\n",
    "    \n",
    "    # Initialize output columns\n",
    "    df['closest_node'] = None\n",
    "    df['closest_node_lat'] = None\n",
    "    df['closest_node_lon'] = None\n",
    "    \n",
    "    # Create masks for valid coordinate pairs\n",
    "    mask_130 = df['130:Latitude'].notna() & df['130:Longitude'].notna()\n",
    "    mask_131 = df['131:Latitude'].notna() & df['131:Longitude'].notna()\n",
    "    \n",
    "    # Combine masks to identify rows with any valid coordinates\n",
    "    valid_mask = mask_130 | mask_131\n",
    "    \n",
    "    # Initialize coordinate arrays\n",
    "    coords = np.full((len(df), 2), np.nan)\n",
    "    \n",
    "    # Assign coordinates: prioritize 130, fall back to 131\n",
    "    coords[mask_130, 0] = df.loc[mask_130, '130:Latitude']\n",
    "    coords[mask_130, 1] = df.loc[mask_130, '130:Longitude']\n",
    "    coords[mask_131 & ~mask_130, 0] = df.loc[mask_131 & ~mask_130, '131:Latitude']\n",
    "    coords[mask_131 & ~mask_130, 1] = df.loc[mask_131 & ~mask_130, '131:Longitude']\n",
    "    \n",
    "    # Filter valid coordinates\n",
    "    valid_coords = coords[valid_mask]\n",
    "    \n",
    "    if len(valid_coords) > 0:\n",
    "        # Find closest nodes for all valid coordinates\n",
    "        closest_nodes, closest_lats, closest_lons = find_closest_nodes(graph, valid_coords)\n",
    "        \n",
    "        # Assign results back to the DataFrame\n",
    "        df.loc[valid_mask, 'closest_node'] = closest_nodes\n",
    "        df.loc[valid_mask, 'closest_node_lat'] = closest_lats\n",
    "        df.loc[valid_mask, 'closest_node_lon'] = closest_lons\n",
    "    \n",
    "    return df"
   ]
  },
  {
   "cell_type": "code",
   "execution_count": 4,
   "id": "e0b5b68f",
   "metadata": {},
   "outputs": [],
   "source": [
    "# Construct the enroute network graph\n",
    "enroute_graph = Lido21EnrouteAirwayDataset(file_path=\"/home/danhle/AIATFM/data_preparation/deepflightplan/datasets/lido21/enroute_airway.geojson\")\n",
    "airport_df = pd.read_csv(\"/home/danhle/AIATFM/data_preparation/deepflightplan/datasets/airports/iata-icao.csv\")\n",
    "\n",
    "# historical_date_flight_data = assign_closest_nodes(historical_date_flight_data, enroute_graph.G)"
   ]
  },
  {
   "cell_type": "code",
   "execution_count": 5,
   "id": "74162dc6",
   "metadata": {},
   "outputs": [],
   "source": [
    "def get_route_from_list_of_nodes(node_list, airport_df):\n",
    "    if len(node_list) < 2:\n",
    "        return None, None\n",
    "    \n",
    "    def find_closest_node_in_airport_df(lat, long, airport_df):\n",
    "        distance = float('inf')\n",
    "        closest_airport = None\n",
    "        for _, row in airport_df.iterrows():\n",
    "            airport_lat = row['latitude']\n",
    "            airport_long = row['longitude']\n",
    "            dist = GeopyGreatCircleDistance().compute_distance(NodeA=[lat, long], NodeB=[airport_lat, airport_long])\n",
    "            if dist < distance:\n",
    "                distance = dist\n",
    "                closest_airport = row['iata']\n",
    "        return closest_airport\n",
    "    \n",
    "    first_node = node_list.iloc[0] \n",
    "    last_node = node_list.iloc[-1]\n",
    "\n",
    "    origin = find_closest_node_in_airport_df(lat=first_node['closest_node_lat'], long=first_node['closest_node_lon'], airport_df=airport_df)\n",
    "    destination = find_closest_node_in_airport_df(lat=last_node['closest_node_lat'], long=last_node['closest_node_lon'], airport_df=airport_df)\n",
    "    \n",
    "    node_list = node_list['closest_node'].to_list()\n",
    "    route = []\n",
    "    for node in node_list:\n",
    "        if node not in route:\n",
    "            route.append(node)\n",
    "\n",
    "    return origin, destination, route\n",
    "\n",
    "def construct_route_from_df(df, airport_df, date_name=\"20241001\"):\n",
    "    callsign_groups = df.groupby(['170:TargetID'])\n",
    "    callsign_groups.groups.keys()\n",
    "    total_df = pd.DataFrame(columns=[\"170:TargetID\",\"origin\", \"destination\", \"route\"])\n",
    "    error_df = pd.DataFrame(columns=[\"170:TargetID\",\"origin\", \"destination\", \"route\", \"message_error\"])\n",
    "    \n",
    "    os.makedirs(date_name, exist_ok=True)\n",
    "    for callsign, group in callsign_groups:\n",
    "        result_df = pd.DataFrame(columns=[\"170:TargetID\",\"origin\", \"destination\", \"route\"])    \n",
    "        try:\n",
    "            origin, destination, route = get_route_from_list_of_nodes(node_list = group[['closest_node', 'closest_node_lat', 'closest_node_lon']], \n",
    "                                                                      airport_df = airport_df)\n",
    "        except Exception as e:\n",
    "            print(f\"Error processing callsign {callsign} {origin}, {destination}: {e}\")\n",
    "            route = route[0] if len(route) < 2 else \" \".join(route)\n",
    "            new_df = pd.DataFrame({\"170:TargetID\": callsign, \"origin\": [origin], \"destination\": [destination], \"route\": [route], \"message_error\": [str(e)]})\n",
    "            error_df = pd.concat([error_df, new_df], ignore_index=True)\n",
    "            error_df.to_csv(f\"{date_name}/error.csv\", index=False)\n",
    "            continue\n",
    "\n",
    "        route = route[0] if len(route) < 2 else \" \".join(route)\n",
    "        new_df = pd.DataFrame({\"170:TargetID\": callsign, \"origin\": [origin], \"destination\": [destination], \"route\": [route]})\n",
    "        result_df = pd.concat([result_df, new_df], ignore_index=True)\n",
    "        file_name = f\"{origin}_{destination}.csv\"\n",
    "        if os.path.exists(f\"{date_name}/{file_name}\"):\n",
    "            existing_df = pd.read_csv(f\"{date_name}/{file_name}\")\n",
    "            result_df = pd.concat([existing_df, result_df], ignore_index=True)\n",
    "\n",
    "        result_df.to_csv(f\"{date_name}/{file_name}\", index=False)\n",
    "        total_df = pd.concat([total_df, result_df], ignore_index=True)\n",
    "    total_df.to_csv(f\"{date_name}/total.csv\", index=False, compression='gzip')\n",
    "    return total_df"
   ]
  },
  {
   "cell_type": "code",
   "execution_count": null,
   "id": "5cfde971",
   "metadata": {},
   "outputs": [],
   "source": [
    "# Full pipeline to construct routes from historical data\n",
    "month_name = \"202410\"\n",
    "historical_monthly_directory = Path(ADS_B_path) / month_name\n",
    "\n",
    "os.makedirs(month_name, exist_ok=True)\n",
    "\n",
    "for file in sorted(historical_monthly_directory.glob(\"*.csv.gz\")):\n",
    "    file_name = str(file.name).split(\".\")[0]\n",
    "    date_name = f\"{month_name}/{file_name}\"\n",
    "    historical_date_flight_data = pd.read_csv(file)\n",
    "    historical_date_flight_data = assign_closest_nodes(historical_date_flight_data, enroute_graph.G)\n",
    "    construct_route_from_df(historical_date_flight_data, airport_df, file_name)\n",
    "    break \n"
   ]
  },
  {
   "cell_type": "markdown",
   "id": "9ed58111",
   "metadata": {},
   "source": [
    "# Most route was used per OD pairs"
   ]
  },
  {
   "cell_type": "code",
   "execution_count": null,
   "id": "1c1ac9be",
   "metadata": {},
   "outputs": [
    {
     "data": {
      "text/plain": [
       "dict_keys(['        ', '  9HVCB ', '  P1Z U ', ' 0   7 L', ' 1O3R2  ', ' 8I7598 ', ' C8     ', ' G ARK 3', ' K 5  Q ', ' U6 N   ', ' UES39IG', '0M51 HN ', '2222232 ', '2YAYA   ', '3  SZ   ', '320     ', '4FBMQL  ', '7RF   E5', '9MDMS   ', '9MHAB   ', '9MHBL   ', '9MKEN   ', '9MMIN   ', '9MNAB   ', '9MPMF   ', '9MSBV   ', '9MSKZ   ', '9MSMJ   ', '9MWEE   ', '9MZZZ   ', '9VSKQ   ', '9VSKW   ', '9VSMJ   ', '9VSMN   ', 'A1      ', 'A2      ', 'A3      ', 'A4      ', 'A5      ', 'A6      ', 'A7      ', 'A8      ', 'A9      ', 'AAR383  ', 'AAR384  ', 'AAR736  ', 'AAR7375 ', 'AAR7385 ', 'AAR740  ', 'AAR751  ', 'AAR752  ', 'AAR761  ', 'AAR762  ', 'ACA20   ', 'ACI740  ', 'ACI741  ', 'AFL296  ', 'AFR181  ', 'AFR256  ', 'AFR257  ', 'AFR258  ', 'AHK326  ', 'AHK327  ', 'AHK391  ', 'AHK392  ', 'AHK562  ', 'AIC301  ', 'AIC302  ', 'AIC308  ', 'AIC309  ', 'AIC342  ', 'AIC343  ', 'AIC346  ', 'AIC347  ', 'AIC380  ', 'AIC381  ', 'AIC382  ', 'AIC383  ', 'AIC384  ', 'AIC385  ', 'AIC388  ', 'AIC389  ', 'AIC392  ', 'AIC393  ', 'AIQ157  ', 'AIQ158  ', 'AIQ3030 ', 'AIQ308  ', 'AIQ309  ', 'AIQ3102 ', 'AIQ3103 ', 'AIQ3106 ', 'AIQ3107 ', 'AIQ3108 ', 'AIQ3109 ', 'AIQ3110 ', 'AIQ3111 ', 'AIQ3112 ', 'AIQ3113 ', 'AIQ3114 ', 'AIQ3115 ', 'AIQ3116 ', 'AIQ3117 ', 'AIQ3118 ', 'AIQ3119 ', 'AIQ3130 ', 'AIQ3131 ', 'AIQ3134 ', 'AIQ3135 ', 'AIQ3182 ', 'AIQ319  ', 'AIQ320  ', 'AIQ321  ', 'AIQ322  ', 'AIQ323  ', 'AIQ324  ', 'AIQ328  ', 'AIQ329  ', 'AIQ350  ', 'AIQ351  ', 'AIQ356  ', 'AIQ357  ', 'AIQ358  ', 'AIQ359  ', 'AIQ376  ', 'AIQ377  ', 'AIQ396  ', 'AIQ397  ', 'AIQ4304 ', 'AIQ4305 ', 'AIQ510  ', 'AIQ511  ', 'AIQ512  ', 'AIQ513  ', 'AIQ606  ', 'AIQ607  ', 'AIQ608  ', 'AIQ609  ', 'AIQ646  ', 'AIQ647  ', 'AIQ654  ', 'AIQ655  ', 'AIQ656  ', 'AIQ657  ', 'AIQ658  ', 'AIQ659  ', 'AL1     ', 'ALK308  ', 'ALK309  ', 'ALK314  ', 'ALK315  ', 'ALK319  ', 'AMU907  ', 'AMU908  ', 'AMU910  ', 'ANA801  ', 'ANA802  ', 'ANA815  ', 'ANA816  ', 'ANA833  ', 'ANA834  ', 'ANA835  ', 'ANA836  ', 'ANA841  ', 'ANA842  ', 'ANA843  ', 'ANA844  ', 'ANA855  ', 'ANA856  ', 'ANA871  ', 'ANA872  ', 'ANA885  ', 'ANA886  ', 'ANA891  ', 'ANA892  ', 'ANDULAU1', 'ANDULAU2', 'ANG392  ', 'ANG393  ', 'ANZ282  ', 'ANZ283  ', 'ANZ284  ', 'APG420  ', 'APG421  ', 'APG430  ', 'APG431  ', 'APG545  ', 'APG546  ', 'APG942  ', 'APG943  ', 'APIGC   ', 'ASY747  ', 'AT01    ', 'AT03    ', 'AT07    ', 'AT08    ', 'AT09    ', 'AT10    ', 'AT14    ', 'AT15    ', 'ATN308  ', 'ATN731  ', 'ATT01   ', 'ATT03   ', 'ATT04   ', 'ATT06   ', 'ATT07   ', 'ATT71   ', 'ATT72   ', 'ATT73   ', 'ATT79   ', 'ATT82   ', 'ATT84   ', 'ATT85   ', 'ATT87   ', 'ATT88   ', 'ATT91   ', 'ATT92   ', 'ATT93   ', 'ATT94   ', 'ATT98   ', 'ATT99   ', 'ATTM74  ', 'AVJ6 H  ', 'AWQ106  ', 'AWQ107  ', 'AWQ108  ', 'AWQ109  ', 'AWQ122  ', 'AWQ123  ', 'AWQ124  ', 'AWQ125  ', 'AWQ126  ', 'AWQ127  ', 'AWQ154  ', 'AWQ155  ', 'AWQ156  ', 'AWQ157  ', 'AWQ200  ', 'AWQ201  ', 'AWQ202  ', 'AWQ203  ', 'AWQ204  ', 'AWQ205  ', 'AWQ208  ', 'AWQ209  ', 'AWQ210  ', 'AWQ211  ', 'AWQ220  ', 'AWQ221  ', 'AWQ240  ', 'AWQ241  ', 'AWQ244  ', 'AWQ245  ', 'AWQ246  ', 'AWQ247  ', 'AWQ250  ', 'AWQ251  ', 'AWQ252  ', 'AWQ253  ', 'AWQ256  ', 'AWQ257  ', 'AWQ258  ', 'AWQ259  ', 'AWQ260  ', 'AWQ261  ', 'AWQ262  ', 'AWQ263  ', 'AWQ264  ', 'AWQ265  ', 'AWQ266  ', 'AWQ267  ', 'AWQ300  ', 'AWQ301  ', 'AWQ320  ', 'AWQ321  ', 'AWQ322  ', 'AWQ323  ', 'AWQ324  ', 'AWQ325  ', 'AWQ326  ', 'AWQ327  ', 'AWQ386  ', 'AWQ387  ', 'AWQ462  ', 'AWQ463  ', 'AWQ500  ', 'AWQ501  ', 'AWQ502  ', 'AWQ503  ', 'AWQ504  ', 'AWQ505  ', 'AWQ506  ', 'AWQ507  ', 'AWQ526  ', 'AWQ527  ', 'AWQ530  ', 'AWQ531  ', 'AWQ550  ', 'AWQ551  ', 'AWQ556  ', 'AWQ557  ', 'AWQ590  ', 'AWQ591  ', 'AWQ724  ', 'AWQ725  ', 'AWQ726  ', 'AWQ727  ', 'AXB681  ', 'AXB682  ', 'AXB683  ', 'AXB684  ', 'AXB687  ', 'AXB688  ', 'AXB689  ', 'AXB690  ', 'AXM10   ', 'AXM100  ', 'AXM101  ', 'AXM103  ', 'AXM104  ', 'AXM112  ', 'AXM113  ', 'AXM114  ', 'AXM116  ', 'AXM117  ', 'AXM118  ', 'AXM119  ', 'AXM12   ', 'AXM122  ', 'AXM123  ', 'AXM126  ', 'AXM127  ', 'AXM128  ', 'AXM129  ', 'AXM13   ', 'AXM1310 ', 'AXM1311 ', 'AXM136  ', 'AXM137  ', 'AXM138  ', 'AXM139  ', 'AXM1394 ', 'AXM1395 ', 'AXM140  ', 'AXM141  ', 'AXM1490 ', 'AXM1491 ', 'AXM1510 ', 'AXM1511 ', 'AXM1516 ', 'AXM1517 ', 'AXM1518 ', 'AXM1520 ', 'AXM1521 ', 'AXM1532 ', 'AXM1533 ', 'AXM156  ', 'AXM1560 ', 'AXM1561 ', 'AXM157  ', 'AXM1574 ', 'AXM1575 ', 'AXM1580 ', 'AXM1581 ', 'AXM1582 ', 'AXM1583 ', 'AXM1623 ', 'AXM1624 ', 'AXM168  ', 'AXM169  ', 'AXM1722 ', 'AXM1723 ', 'AXM1724 ', 'AXM1725 ', 'AXM1773 ', 'AXM1774 ', 'AXM1775 ', 'AXM1776 ', 'AXM1793 ', 'AXM1794 ', 'AXM18   ', 'AXM180  ', 'AXM181  ', 'AXM186  ', 'AXM187  ', 'AXM188  ', 'AXM189  ', 'AXM2137 ', 'AXM2138 ', 'AXM2280 ', 'AXM2281 ', 'AXM236  ', 'AXM237  ', 'AXM238  ', 'AXM239  ', 'AXM25   ', 'AXM26   ', 'AXM27   ', 'AXM270  ', 'AXM271  ', 'AXM272  ', 'AXM273  ', 'AXM278  ', 'AXM279  ', 'AXM28   ', 'AXM29   ', 'AXM30   ', 'AXM304  ', 'AXM31   ', 'AXM32   ', 'AXM33   ', 'AXM330  ', 'AXM331  ', 'AXM336  ', 'AXM337  ', 'AXM346  ', 'AXM347  ', 'AXM348  ', 'AXM349  ', 'AXM351  ', 'AXM352  ', 'AXM353  ', 'AXM354  ', 'AXM36   ', 'AXM37   ', 'AXM370  ', 'AXM371  ', 'AXM376  ', 'AXM377  ', 'AXM378  ', 'AXM379  ', 'AXM38   ', 'AXM384  ', 'AXM385  ', 'AXM39   ', 'AXM390  ', 'AXM391  ', 'AXM392  ', 'AXM393  ', 'AXM396  ', 'AXM397  ', 'AXM404  ', 'AXM405  ', 'AXM406  ', 'AXM407  ', 'AXM4102 ', 'AXM4103 ', 'AXM4104 ', 'AXM4105 ', 'AXM420  ', 'AXM421  ', 'AXM422  ', 'AXM423  ', 'AXM4234 ', 'AXM4235 ', 'AXM4236 ', 'AXM4237 ', 'AXM427  ', 'AXM428  ', 'AXM429  ', 'AXM46   ', 'AXM47   ', 'AXM5012 ', 'AXM5013 ', 'AXM5104 ', 'AXM5105 ', 'AXM5108 ', 'AXM5109 ', 'AXM5110 ', 'AXM5111 ', 'AXM5114 ', 'AXM5115 ', 'AXM5116 ', 'AXM5117 ', 'AXM5118 ', 'AXM5119 ', 'AXM512  ', 'AXM513  ', 'AXM5130 ', 'AXM5131 ', 'AXM5134 ', 'AXM5135 ', 'AXM5136 ', 'AXM5139 ', 'AXM5140 ', 'AXM5174 ', 'AXM5175 ', 'AXM5194 ', 'AXM5195 ', 'AXM5198 ', 'AXM5199 ', 'AXM520  ', 'AXM5202 ', 'AXM5203 ', 'AXM5204 ', 'AXM5205 ', 'AXM5206 ', 'AXM5207 ', 'AXM5208 ', 'AXM5209 ', 'AXM521  ', 'AXM5210 ', 'AXM5212 ', 'AXM5213 ', 'AXM5218 ', 'AXM5219 ', 'AXM522  ', 'AXM5220 ', 'AXM5221 ', 'AXM5228 ', 'AXM5229 ', 'AXM523  ', 'AXM5231 ', 'AXM5232 ', 'AXM5233 ', 'AXM524  ', 'AXM5242 ', 'AXM5243 ', 'AXM5246 ', 'AXM5247 ', 'AXM525  ', 'AXM528  ', 'AXM529  ', 'AXM5301 ', 'AXM5302 ', 'AXM5303 ', 'AXM5304 ', 'AXM5322 ', 'AXM5323 ', 'AXM5345 ', 'AXM5346 ', 'AXM536  ', 'AXM537  ', 'AXM5411 ', 'AXM5412 ', 'AXM5413 ', 'AXM5414 ', 'AXM5416 ', 'AXM5417 ', 'AXM5432 ', 'AXM5433 ', 'AXM5507 ', 'AXM5508 ', 'AXM552  ', 'AXM553  ', 'AXM5640 ', 'AXM5641 ', 'AXM5644 ', 'AXM5645 ', 'AXM5653 ', 'AXM5654 ', 'AXM5740 ', 'AXM5741 ', 'AXM5744 ', 'AXM5745 ', 'AXM5746 ', 'AXM5747 ', 'AXM5748 ', 'AXM5749 ', 'AXM5751 ', 'AXM5752 ', 'AXM584  ', 'AXM585  ', 'AXM5870 ', 'AXM5871 ', 'AXM5876 ', 'AXM5877 ', 'AXM5882 ', 'AXM5883 ', 'AXM60   ', 'AXM6014 ', 'AXM6015 ', 'AXM6020 ', 'AXM6021 ', 'AXM6034 ', 'AXM6035 ', 'AXM6038 ', 'AXM6039 ', 'AXM604  ', 'AXM6042 ', 'AXM6043 ', 'AXM6044 ', 'AXM6045 ', 'AXM6046 ', 'AXM6047 ', 'AXM6056 ', 'AXM6057 ', 'AXM6058 ', 'AXM6059 ', 'AXM6061 ', 'AXM6062 ', 'AXM6063 ', 'AXM6064 ', 'AXM607  ', 'AXM6071 ', 'AXM6072 ', 'AXM6073 ', 'AXM6074 ', 'AXM6082 ', 'AXM6083 ', 'AXM6092 ', 'AXM6093 ', 'AXM61   ', 'AXM6118 ', 'AXM6119 ', 'AXM6123 ', 'AXM6124 ', 'AXM6126 ', 'AXM6127 ', 'AXM6128 ', 'AXM6129 ', 'AXM6130 ', 'AXM6131 ', 'AXM6132 ', 'AXM6133 ', 'AXM6138 ', 'AXM6139 ', 'AXM6142 ', 'AXM6143 ', 'AXM6144 ', 'AXM6145 ', 'AXM6180 ', 'AXM6181 ', 'AXM6186 ', 'AXM6187 ', 'AXM6188 ', 'AXM6189 ', 'AXM6190 ', 'AXM6191 ', 'AXM6192 ', 'AXM6193 ', 'AXM62   ', 'AXM6203 ', 'AXM6204 ', 'AXM6218 ', 'AXM6219 ', 'AXM6222 ', 'AXM6223 ', 'AXM6224 ', 'AXM6225 ', 'AXM6228 ', 'AXM6229 ', 'AXM6240 ', 'AXM6241 ', 'AXM6246 ', 'AXM6247 ', 'AXM6260 ', 'AXM6261 ', 'AXM6262 ', 'AXM6263 ', 'AXM6264 ', 'AXM6265 ', 'AXM6268 ', 'AXM6269 ', 'AXM6270 ', 'AXM6271 ', 'AXM6272 ', 'AXM6273 ', 'AXM6274 ', 'AXM6275 ', 'AXM63   ', 'AXM6302 ', 'AXM6303 ', 'AXM6304 ', 'AXM6305 ', 'AXM6306 ', 'AXM6307 ', 'AXM6310 ', 'AXM6311 ', 'AXM6318 ', 'AXM6319 ', 'AXM6320 ', 'AXM6321 ', 'AXM6322 ', 'AXM6329 ', 'AXM6340 ', 'AXM6341 ', 'AXM6350 ', 'AXM6351 ', 'AXM6352 ', 'AXM6353 ', 'AXM6354 ', 'AXM6355 ', 'AXM640  ', 'AXM641  ', 'AXM6412 ', 'AXM6413 ', 'AXM6414 ', 'AXM6415 ', 'AXM6416 ', 'AXM6417 ', 'AXM642  ', 'AXM6422 ', 'AXM6423 ', 'AXM643  ', 'AXM6432 ', 'AXM6433 ', 'AXM6436 ', 'AXM6437 ', 'AXM6438 ', 'AXM6439 ', 'AXM6440 ', 'AXM6441 ', 'AXM6448 ', 'AXM6449 ', 'AXM6460 ', 'AXM6461 ', 'AXM6462 ', 'AXM6463 ', 'AXM6464 ', 'AXM6465 ', 'AXM6468 ', 'AXM6469 ', 'AXM6472 ', 'AXM6473 ', 'AXM6490 ', 'AXM6491 ', 'AXM6492 ', 'AXM6493 ', 'AXM6496 ', 'AXM6497 ', 'AXM6498 ', 'AXM6499 ', 'AXM68   ', 'AXM69   ', 'AXM700  ', 'AXM701  ', 'AXM702  ', 'AXM703  ', 'AXM704  ', 'AXM705  ', 'AXM706  ', 'AXM707  ', 'AXM710  ', 'AXM711  ', 'AXM712  ', 'AXM713  ', 'AXM714  ', 'AXM715  ', 'AXM716  ', 'AXM717  ', 'AXM718  ', 'AXM719  ', 'AXM72   ', 'AXM720  ', 'AXM721  ', 'AXM73   ', 'AXM732  ', 'AXM733  ', 'AXM74   ', 'AXM75   ', 'AXM78   ', 'AXM8002 ', 'AXM8004 ', 'AXM8005 ', 'AXM8011 ', 'AXM8018 ', 'AXM822  ', 'AXM823  ', 'AXM824  ', 'AXM825  ', 'AXM826  ', 'AXM827  ', 'AXM828  ', 'AXM829  ', 'AXM832  ', 'AXM833  ', 'AXM856  ', 'AXM857  ', 'AXM8578 ', 'AXM8579 ', 'AXM868  ', 'AXM869  ', 'AXM880  ', 'AXM881  ', 'AXM882  ', 'AXM883  ', 'AXM884  ', 'AXM885  ', 'AXM886  ', 'AXM887  ', 'AXM888  ', 'AXM889  ', 'AXM890  ', 'AXM891  ', 'AXM892  ', 'AXM893  ', 'AXM896  ', 'AXM897  ', 'AXM90   ', 'AXM9029 ', 'AXM9042 ', 'AXM9043 ', 'AXM9946 ', 'AXX6268 ', 'AXXM5209', 'AZG633  ', 'AZG634  ', 'B652L   ', 'B652S   ', 'B8265   ', 'B98888  ', 'BAV1122 ', 'BAV1154 ', 'BAV1313 ', 'BAV152  ', 'BAV1540 ', 'BAV162  ', 'BAV170  ', 'BAV191  ', 'BAV204  ', 'BAV242  ', 'BAV255  ', 'BAV263  ', 'BAV275  ', 'BAV278  ', 'BAV286  ', 'BAV6215 ', 'BAW11   ', 'BAW12   ', 'BAW15   ', 'BAW16   ', 'BBC382  ', 'BBC383  ', 'BBC386  ', 'BBC387  ', 'BBC584  ', 'BBC585  ', 'BFL84DA ', 'BKP298  ', 'BKP299  ', 'BKP806  ', 'BKP931  ', 'BKP932  ', 'BKP933  ', 'BKP934  ', 'BKP935  ', 'BKP936  ', 'BKP961  ', 'BKP962  ', 'BKP963  ', 'BKP968  ', 'BOX530  ', 'BOX531  ', 'BOX618  ', 'BOX619  ', 'BTK6316 ', 'BTK6317 ', 'BTK6802 ', 'BTK6803 ', 'BTK6804 ', 'BTK6805 ', 'BTK6824 ', 'BTK6825 ', 'BTK6852 ', 'BTK6854 ', 'BTK6855 ', 'BTK6857 ', 'BTK6862 ', 'BTK6863 ', 'BTK6864 ', 'BTK6865 ', 'BTK6898 ', 'BTK6899 ', 'BTK7010 ', 'BTK7011 ', 'BTK7021 ', 'BTK7051 ', 'BTK7052 ', 'BTK7053 ', 'BTK7054 ', 'BTK7055 ', 'BTK7056 ', 'BTK7065 ', 'BTK7066 ', 'BTK7146 ', 'BTK7147 ', 'BTK7150 ', 'BTK7151 ', 'BTK7152 ', 'BTK7153 ', 'BTK7154 ', 'BTK7155 ', 'BTK7156 ', 'BTK7157 ', 'BTK7158 ', 'BTK7159 ', 'BTK7170 ', 'BTK7171 ', 'BTK7282 ', 'BTK7283 ', 'BTK7288 ', 'BTK7289 ', 'BTK7630 ', 'BTK7631 ', 'BTK7636 ', 'BTK7637 ', 'CAF1    ', 'CAF2    ', 'CAF4    ', 'CAL5878 ', 'CAL5883 ', 'CAL5884 ', 'CAL6881 ', 'CAL6882 ', 'CAL721  ', 'CAL722  ', 'CAL731  ', 'CAL732  ', 'CAL753  ', 'CAL754  ', 'CAL755  ', 'CAL756  ', 'CAL757  ', 'CAL761  ', 'CAL762  ', 'CAL763  ', 'CAL764  ', 'CAL771  ', 'CAL772  ', 'CAL782  ', 'CAL783  ', 'CAL784  ', 'CAP4 BC4', 'CBG8967 ', 'CBG8968 ', 'CCA403  ', 'CCA404  ', 'CCA449  ', 'CCA450  ', 'CCA475  ', 'CCA476  ', 'CCA483  ', 'CCA484  ', 'CCA553  ', 'CCA554  ', 'CCA775  ', 'CCA776  ', 'CCA825  ', 'CCA826  ', 'CCA871  ', 'CCA872  ', 'CCA904  ', 'CCA969  ', 'CCA970  ', 'CCA975  ', 'CCA976  ', 'CD  HDW ', 'CDC8035 ', 'CDC8036 ', 'CDG2153 ', 'CDG2154 ', 'CDG8061 ', 'CDG8062 ', 'CE646   ', 'CEB225  ', 'CEB226  ', 'CEB227  ', 'CEB228  ', 'CEB229  ', 'CEB279  ', 'CEB280  ', 'CEB501  ', 'CEB502  ', 'CEB547  ', 'CEB548  ', 'CEB635  ', 'CEB636  ', 'CEB637  ', 'CEB639  ', 'CEB640  ', 'CEB641  ', 'CEB642  ', 'CEB645  ', 'CEB647  ', 'CEB648  ', 'CEB751  ', 'CEB752  ', 'CEB759  ', 'CEB760  ', 'CEB803  ', 'CEB804  ', 'CEB805  ', 'CEB806  ', 'CEB813  ', 'CEB814  ', 'CES2045 ', 'CES2046 ', 'CES2565 ', 'CES2566 ', 'CES2669 ', 'CES2670 ', 'CES281  ', 'CES282  ', 'CES2969 ', 'CES2970 ', 'CES5031 ', 'CES5032 ', 'CES5069 ', 'CES5070 ', 'CES5081 ', 'CES5082 ', 'CES5095 ', 'CES5096 ', 'CES543  ', 'CES544  ', 'CES545  ', 'CES546  ', 'CES565  ', 'CES566  ', 'CES567  ', 'CES568  ', 'CES6017 ', 'CES6018 ', 'CES6021 ', 'CES6022 ', 'CES6637 ', 'CES6638 ', 'CES760  ', 'CES769  ', 'CES770  ', 'CES795  ', 'CES796  ', 'CES871  ', 'CES872  ', 'CES9610 ', 'CES9629 ', 'CES9630 ', 'CES9633 ', 'CES9634 ', 'CHH747  ', 'CHH748  ', 'CIQ172  ', 'CLX8171 ', 'CLX9002 ', 'CP1     ', 'CPA170  ', 'CPA171  ', 'CPA633  ', 'CPA634  ', 'CPA635  ', 'CPA636  ', 'CPA658  ', 'CPA659  ', 'CPA690  ', 'CPA691  ', 'CPA692  ', 'CPA710  ', 'CPA711  ', 'CPA712  ', 'CPA714  ', 'CPA715  ', 'CPA716  ', 'CPA717  ', 'CPA718  ', 'CPA719  ', 'CPA722  ', 'CPA723  ', 'CPA724  ', 'CPA725  ', 'CPA729  ', 'CPA730  ', 'CPA734  ', 'CPA735  ', 'CPA739  ', 'CPA748  ', 'CPA759  ', 'CPA764  ', 'CPA766  ', 'CPA776  ', 'CPA777  ', 'CPA779  ', 'CPA780  ', 'CPA784  ', 'CPA785  ', 'CPA797  ', 'CPA798  ', 'CQH7299 ', 'CQH7300 ', 'CQH7347 ', 'CQH7348 ', 'CQH8549 ', 'CQH8550 ', 'CQH8687 ', 'CQN2095 ', 'CQN2096 ', 'CRK706  ', 'CRK707  ', 'CSC3903 ', 'CSC3904 ', 'CSC3909 ', 'CSC3910 ', 'CSC3993 ', 'CSC3994 ', 'CSH863  ', 'CSH864  ', 'CSH865  ', 'CSH866  ', 'CSH867  ', 'CSH868  ', 'CSH878  ', 'CSH885  ', 'CSH886  ', 'CSN3037 ', 'CSN3038 ', 'CSN3039 ', 'CSN3040 ', 'CSN3070 ', 'CSN349  ', 'CSN350  ', 'CSN351  ', 'CSN352  ', 'CSN353  ', 'CSN354  ', 'CSN365  ', 'CSN366  ', 'CSN368  ', 'CSN373  ', 'CSN374  ', 'CSN387  ', 'CSN388  ', 'CSN395  ', 'CSN396  ', 'CSN5049 ', 'CSN5050 ', 'CSN5079 ', 'CSN5080 ', 'CSN6060 ', 'CSN6065 ', 'CSN6066 ', 'CSN6078 ', 'CSN6090 ', 'CSN6096 ', 'CSN625  ', 'CSN626  ', 'CSN8011 ', 'CSN8012 ', 'CSN8047 ', 'CSN8048 ', 'CSN8071 ', 'CSN8072 ', 'CSN8073 ', 'CSN8074 ', 'CSN8301 ', 'CSN8302 ', 'CSN8314 ', 'CSN8335 ', 'CSN8336 ', 'CSN8353 ', 'CSN8354 ', 'CSN8474 ', 'CSN8483 ', 'CSN8484 ', 'CSN8489 ', 'CSN8490 ', 'CSN8497 ', 'CSN8498 ', 'CSN849D ', 'CSS105  ', 'CSS106  ', 'CSS107  ', 'CSS108  ', 'CSZ118  ', 'CSZ229  ', 'CSZ230  ', 'CSZ239  ', 'CSZ240  ', 'CSZ329  ', 'CSZ330  ', 'CSZ333  ', 'CSZ334  ', 'CSZ335  ', 'CSZ336  ', 'CTV010  ', 'CTV011  ', 'CTV046  ', 'CTV047  ', 'CTV084  ', 'CTV085  ', 'CTV088  ', 'CTV089  ', 'CTV410  ', 'CTV411  ', 'CTV412  ', 'CTV414  ', 'CTV415  ', 'CTV419  ', 'CTV502  ', 'CTV503  ', 'CTV514  ', 'CTV515  ', 'CTV522  ', 'CTV523  ', 'CTV526  ', 'CTV527  ', 'CTV782  ', 'CTV783  ', 'CTV8506 ', 'CTV8507 ', 'CTV882  ', 'CTV883  ', 'CTV8830 ', 'CTV8831 ', 'CTV884  ', 'CTV885  ', 'CTV8850 ', 'CTV8851 ', 'CTV888  ', 'CTV889  ', 'CTV910  ', 'CTV911  ', 'CTV912  ', 'CTV913  ', 'CTV914  ', 'CTV915  ', 'CTV916  ', 'CTV917  ', 'CTV918  ', 'CTV919  ', 'CTV922  ', 'CTV923  ', 'CTV924  ', 'CTV925  ', 'CTV934  ', 'CTV935  ', 'CTV936  ', 'CTV937  ', 'CTV938  ', 'CTV939  ', 'CTV940  ', 'CTV941  ', 'CTV942  ', 'CTV943  ', 'CTV944  ', 'CTV945  ', 'CTV948  ', 'CTV949  ', 'CTV952  ', 'CTV953  ', 'CTV962  ', 'CTV963  ', 'CTV966  ', 'CTV967  ', 'CTV968  ', 'CTV969  ', 'CTV972  ', 'CTV973  ', 'CTV974  ', 'CTV975  ', 'CTV976  ', 'CTV977  ', 'CTV978  ', 'CTV979  ', 'CTV988  ', 'CTV989  ', 'CXA823  ', 'CXA824  ', 'CXA837  ', 'CXA838  ', 'CXA841  ', 'CXA842  ', 'CXA847  ', 'CXA848  ', 'CXA851  ', 'CXA852  ', 'CXA855  ', 'CXA856  ', 'CXA8649 ', 'CXA865  ', 'CXA8650 ', 'CXA866  ', 'CXA867  ', 'CXA868  ', 'CXA8687 ', 'CXA8688 ', 'CXA8703 ', 'CXA8704 ', 'CXA8705 ', 'CXA8706 ', 'CXA885  ', 'CXA886  ', 'CXA891  ', 'CXA892  ', 'CXA894  ', 'CXA896  ', 'CXA897  ', 'CXA898  ', 'CXA8993 ', 'CXA8994 ', 'D41     ', 'DHX780  ', 'DHX782  ', 'DHX783  ', 'DKH1355 ', 'DKH1356 ', 'DKH1364 ', 'DKH1365 ', 'DKH1366 ', 'DKH1601 ', 'DKH1602 ', 'DKH1605 ', 'DKH1606 ', 'DLH778  ', 'DLH779  ', 'DLH790  ', 'DLH791  ', 'DOLPH03 ', 'E   G 22', 'ES1     ', 'ES2     ', 'ESR581  ', 'ESR582  ', 'ET1     ', 'ET2     ', 'ETD416  ', 'ETD417  ', 'ETD418  ', 'ETD419  ', 'ETD472  ', 'ETD474  ', 'ETD475  ', 'ETD496  ', 'ETD497  ', 'ETH628  ', 'ETH629  ', 'ETH638  ', 'ETH639  ', 'EVA215  ', 'EVA216  ', 'EVA225  ', 'EVA226  ', 'EVA227  ', 'EVA228  ', 'EVA237  ', 'EVA238  ', 'EVA255  ', 'EVA256  ', 'EVA381  ', 'EVA382  ', 'EVA396  ', 'EVA6017 ', 'FC1     ', 'FDX5040 ', 'FDX5148 ', 'FDX5194 ', 'FDX5419 ', 'FDX5601 ', 'FDX6008 ', 'FDX6013 ', 'FDX6024 ', 'FDX6053 ', 'FDX6091 ', 'FDX6159 ', 'FDX9856 ', 'FFM1146 ', 'FFM1147 ', 'FFM1150 ', 'FFM1151 ', 'FFM1152 ', 'FFM1153 ', 'FFM1154 ', 'FFM1155 ', 'FFM1261 ', 'FFM1334 ', 'FFM1335 ', 'FFM1342 ', 'FFM1343 ', 'FFM1346 ', 'FFM1347 ', 'FFM1348 ', 'FFM1349 ', 'FFM1424 ', 'FFM1426 ', 'FFM1428 ', 'FFM1431 ', 'FFM1435 ', 'FFM1440 ', 'FFM1441 ', 'FFM1445 ', 'FFM1578 ', 'FFM1579 ', 'FFM1670 ', 'FFM1671 ', 'FFM1674 ', 'FFM1675 ', 'FFM2446 ', 'FFM2447 ', 'FFM2521 ', 'FFM2523 ', 'FFM2552 ', 'FFM2553 ', 'FFM2562 ', 'FFM2563 ', 'FFM2566 ', 'FFM2602 ', 'FFM2603 ', 'FFM2680 ', 'FFM2681 ', 'FFM2700 ', 'FFM2701 ', 'FFM2708 ', 'FFM2751 ', 'FFM2850 ', 'FFM2851 ', 'FFM2854 ', 'FFM2855 ', 'FFM2871 ', 'FFM2872 ', 'FFM3122 ', 'FFM3123 ', 'FFM3124 ', 'FFM3125 ', 'FFM3126 ', 'FFM3127 ', 'FFM3128 ', 'FFM3129 ', 'FFM3130 ', 'FFM3131 ', 'FFM3132 ', 'FFM3133 ', 'FFM3601 ', 'FFM3620 ', 'FFM3621 ', 'FFM3847 ', 'FFM3978 ', 'FFM3979 ', 'FIN131  ', 'FIN132  ', 'GAP2348 ', 'GAP2781 ', 'GAP2782 ', 'GAP2785 ', 'GAP2786 ', 'GAP2787 ', 'GAP2788 ', 'GAR2347 ', 'GCR7940 ', 'GFA165  ', 'GFA166  ', 'GIA089  ', 'GIA102  ', 'GIA107  ', 'GIA114  ', 'GIA118  ', 'GIA119  ', 'GIA121  ', 'GIA126  ', 'GIA127  ', 'GIA134  ', 'GIA135  ', 'GIA136  ', 'GIA137  ', 'GIA140  ', 'GIA141  ', 'GIA146  ', 'GIA147  ', 'GIA148  ', 'GIA149  ', 'GIA150  ', 'GIA152  ', 'GIA153  ', 'GIA154  ', 'GIA155  ', 'GIA157  ', 'GIA162  ', 'GIA163  ', 'GIA172  ', 'GIA175  ', 'GIA176  ', 'GIA179  ', 'GIA182  ', 'GIA183  ', 'GIA184  ', 'GIA185  ', 'GIA187  ', 'GIA190  ', 'GIA193  ', 'GIA196  ', 'GIA288  ', 'GIA289  ', 'GIA500  ', 'GIA503  ', 'GIA504  ', 'GIA509  ', 'GIA512  ', 'GIA513  ', 'GIA7881 ', 'GIA820  ', 'GIA821  ', 'GIA822  ', 'GIA823  ', 'GIA828  ', 'GIA829  ', 'GIA832  ', 'GIA833  ', 'GIA836  ', 'GIA837  ', 'GIA842  ', 'GIA843  ', 'GIA8544 ', 'GIA855  ', 'GIA866  ', 'GIA867  ', 'GIA870  ', 'GIA874  ', 'GIA875  ', 'GIA878  ', 'GIA879  ', 'GIA8881 ', 'GIA901  ', 'GIA961  ', 'GIA981  ', 'GIA983  ', 'GOTHC31 ', 'GTI8415 ', 'GTI8496 ', 'H11     ', 'HGL7  20', 'HIM891  ', 'HSHVC   ', 'HSKCS   ', 'HSSFO   ', 'HSSFP   ', 'HSSFQ   ', 'HSSKS   ', 'HSUOK   ', 'HSUOL   ', 'HSUOM   ', 'HVN10   ', 'HVN106  ', 'HVN11   ', 'HVN110  ', 'HVN114  ', 'HVN1176 ', 'HVN118  ', 'HVN1186 ', 'HVN1187 ', 'HVN1188 ', 'HVN1202 ', 'HVN1203 ', 'HVN1206 ', 'HVN1207 ', 'HVN122  ', 'HVN1238 ', 'HVN1239 ', 'HVN126  ', 'HVN1262 ', 'HVN1264 ', 'HVN1265 ', 'HVN1266 ', 'HVN1267 ', 'HVN1268 ', 'HVN1276 ', 'HVN130  ', 'HVN131  ', 'HVN134  ', 'HVN1340 ', 'HVN1344 ', 'HVN1346 ', 'HVN1368 ', 'HVN1372 ', 'HVN1373 ', 'HVN1374 ', 'HVN1375 ', 'HVN1376 ', 'HVN1377 ', 'HVN1382 ', 'HVN1386 ', 'HVN1392 ', 'HVN1394 ', 'HVN1395 ', 'HVN1404 ', 'HVN1414 ', 'HVN1422 ', 'HVN146  ', 'HVN1468 ', 'HVN148  ', 'HVN1824 ', 'HVN1825 ', 'HVN1826 ', 'HVN1827 ', 'HVN1828 ', 'HVN1829 ', 'HVN1856 ', 'HVN1857 ', 'HVN1858 ', 'HVN1859 ', 'HVN1884 ', 'HVN1885 ', 'HVN1892 ', 'HVN1893 ', 'HVN204  ', 'HVN205  ', 'HVN206  ', 'HVN208  ', 'HVN210  ', 'HVN212  ', 'HVN214  ', 'HVN216  ', 'HVN218  ', 'HVN220  ', 'HVN224  ', 'HVN240  ', 'HVN244  ', 'HVN246  ', 'HVN248  ', 'HVN250  ', 'HVN251  ', 'HVN254  ', 'HVN255  ', 'HVN258  ', 'HVN263  ', 'HVN267  ', 'HVN270  ', 'HVN30   ', 'HVN300  ', 'HVN31   ', 'HVN320  ', 'HVN340  ', 'HVN350  ', 'HVN402  ', 'HVN403  ', 'HVN408  ', 'HVN422  ', 'HVN502  ', 'HVN522  ', 'HVN600  ', 'HVN601  ', 'HVN604  ', 'HVN605  ', 'HVN606  ', 'HVN607  ', 'HVN630  ', 'HVN631  ', 'HVN648  ', 'HVN649  ', 'HVN650  ', 'HVN651  ', 'HVN654  ', 'HVN655  ', 'HVN660  ', 'HVN661  ', 'HVN680  ', 'HVN681  ', 'HVN7124 ', 'HVN7125 ', 'HVN7258 ', 'HVN7494 ', 'HVN7500 ', 'HVN7501 ', 'HVN772  ', 'HVN773  ', 'HVN778  ', 'HVN779  ', 'HVN780  ', 'HVN781  ', 'HVN787  ', 'HVN8062 ', 'HVN8063 ', 'HVN812  ', 'HVN813  ', 'HVN920  ', 'HVN921  ', 'HVN976  ', 'HVN977  ', 'IGO1001 ', 'IGO1002 ', 'IGO1003 ', 'IGO1004 ', 'IGO1005 ', 'IGO1006 ', 'IGO1007 ', 'IGO1008 ', 'IGO1011 ', 'IGO1012 ', 'IGO1013 ', 'IGO1014 ', 'IGO1015 ', 'IGO1016 ', 'IGO1017 ', 'IGO1018 ', 'IGO1027 ', 'IGO1028 ', 'IGO1031 ', 'IGO1032 ', 'IGO1601 ', 'IGO1602 ', 'IGO1605 ', 'IGO1606 ', 'IGO1641 ', 'IGO1642 ', 'JAL35   ', 'JAL36   ', 'JAL37   ', 'JAL38   ', 'JAL70   ', 'JAL711  ', 'JAL712  ', 'JAL720  ', 'JAL723  ', 'JAL724  ', 'JAL725  ', 'JAL726  ', 'JAL750  ', 'JAL759  ', 'JAL79   ', 'JJA2507 ', 'JJA2508 ', 'JJA4055 ', 'JJA4056 ', 'JJA4103 ', 'JJA4104 ', 'JNA091  ', 'JNA092  ', 'JNA131  ', 'JNA132  ', 'JOHOR1  ', 'JSA161  ', 'JSA162  ', 'JSA201  ', 'JSA202  ', 'JSA23   ', 'JSA241  ', 'JSA242  ', 'JSA245  ', 'JSA246  ', 'JSA511  ', 'JSA512  ', 'JSA513  ', 'JSA514  ', 'JSA515  ', 'JSA516  ', 'JSA535  ', 'JSA536  ', 'JSA537  ', 'JSA538  ', 'JSA571  ', 'JSA572  ', 'JSA573  ', 'JSA591  ', 'JSA592  ', 'JSA671  ', 'JSA675  ', 'JSA676  ', 'JSA683  ', 'JSA684  ', 'JSA685  ', 'JSA686  ', 'JSA687  ', 'JSA688  ', 'JSA761  ', 'JSA762  ', 'JSA763  ', 'JSA764  ', 'JSA765  ', 'JSA766  ', 'JSA792  ', 'JSA817  ', 'JSA833  ', 'JSA834  ', 'JST17   ', 'JST18   ', 'JST29   ', 'JST30   ', 'JST61   ', 'JST62   ', 'JST7    ', 'JST71   ', 'JST72   ', 'JST8    ', 'JST96   ', 'JST97   ', 'JST98   ', 'JST99   ', 'KAL341  ', 'KAL363  ', 'KAL364  ', 'KAL470  ', 'KAL475  ', 'KAL476  ', 'KAL478  ', 'KAL487  ', 'KAL488  ', 'KAL627  ', 'KAL628  ', 'KAL643  ', 'KAL644  ', 'KAL645  ', 'KAL646  ', 'KAL647  ', 'KAL648  ', 'KAL671  ', 'KAL672  ', 'KAL8383 ', 'KHV130  ', 'KHV131  ', 'KHV809  ', 'KHV812  ', 'KHV818  ', 'KHV819  ', 'KHV824  ', 'KHV828  ', 'KHV829  ', 'KHV838  ', 'KHV839  ', 'KLM809  ', 'KLM810  ', 'KLM835  ', 'KLM836  ', 'KME701  ', 'KME702  ', 'KME703  ', 'KME704  ', 'KME915  ', 'KME961  ', 'KME963  ', 'KME9737 ', 'KME9755 ', 'KME9756 ', 'KMI801  ', 'KMI804  ', 'KOC01   ', 'KOZ16 Q3', 'KTC102  ', 'KTC166  ', 'KTC167  ', 'KTC168  ', 'KTC169  ', 'KXP1611 ', 'KXP1612 ', 'KXP1613 ', 'KXP1614 ', 'KXP1615 ', 'KXP1616 ', 'KXP1812 ', 'KXP209  ', 'KXP210  ', 'KXP2611 ', 'KXP2612 ', 'KXP836  ', 'LANCER  ', 'LAO515  ', 'LAO516  ', 'LKN090  ', 'LKN091  ', 'LKN180  ', 'LKN181  ', 'LKN435  ', 'LKN436  ', 'LNI075  ', 'LNI093  ', 'LNI094  ', 'LNI104  ', 'LNI105  ', 'LNI107  ', 'LNI111  ', 'LNI126  ', 'LNI127  ', 'LNI138  ', 'LNI139  ', 'LNI142  ', 'LNI143  ', 'LNI204  ', 'LNI210  ', 'LNI211  ', 'LNI217  ', 'LNI218  ', 'LNI219  ', 'LNI228  ', 'LNI229  ', 'LNI236  ', 'LNI237  ', 'LNI238  ', 'LNI239  ', 'LNI246  ', 'LNI247  ', 'LNI276  ', 'LNI279  ', 'LNI305  ', 'LNI306  ', 'LNI308  ', 'LNI309  ', 'LNI334  ', 'LNI347  ', 'LNI370  ', 'LNI373  ', 'LNI385  ', 'LNI614  ', 'LNI618  ', 'LNI619  ', 'LNI684  ', 'LNI685  ', 'LNI710  ', 'LNI836  ', 'LNI837  ', 'LNI838  ', 'LNI839  ', 'LNI877  ', 'LNI970  ', 'LNI971  ', 'LNI972  ', 'LNI973  ', 'LNI982  ', 'LNI983  ', 'LNI989  ', 'M10301  ', 'M10302  ', 'M10304  ', 'M10305  ', 'MAS066  ', 'MAS067  ', 'MAS072  ', 'MAS073  ', 'MAS078  ', 'MAS079  ', 'MAS1    ', 'MAS102  ', 'MAS103  ', 'MAS1034 ', 'MAS1057 ', 'MAS1058 ', 'MAS106  ', 'MAS1063 ', 'MAS107  ', 'MAS108  ', 'MAS109  ', 'MAS1133 ', 'MAS1137 ', 'MAS1138 ', 'MAS114  ', 'MAS1143 ', 'MAS1148 ', 'MAS1149 ', 'MAS115  ', 'MAS1152 ', 'MAS1155 ', 'MAS1162 ', 'MAS1165 ', 'MAS1166 ', 'MAS118  ', 'MAS119  ', 'MAS1194 ', 'MAS1208 ', 'MAS1209 ', 'MAS122  ', 'MAS123  ', 'MAS124  ', 'MAS125  ', 'MAS126  ', 'MAS1268 ', 'MAS1269 ', 'MAS127  ', 'MAS128  ', 'MAS129  ', 'MAS132  ', 'MAS133  ', 'MAS1335 ', 'MAS1336 ', 'MAS138  ', 'MAS1396 ', 'MAS1397 ', 'MAS1426 ', 'MAS1427 ', 'MAS1432 ', 'MAS1433 ', 'MAS1436 ', 'MAS1437 ', 'MAS145  ', 'MAS1450 ', 'MAS1459 ', 'MAS153  ', 'MAS155  ', 'MAS156  ', 'MAS159  ', 'MAS160  ', 'MAS161  ', 'MAS162  ', 'MAS164  ', 'MAS165  ', 'MAS167  ', 'MAS168  ', 'MAS170  ', 'MAS171  ', 'MAS172  ', 'MAS173  ', 'MAS178  ', 'MAS179  ', 'MAS180  ', 'MAS181  ', 'MAS190  ', 'MAS191  ', 'MAS192  ', 'MAS193  ', 'MAS194  ', 'MAS195  ', 'MAS197  ', 'MAS198  ', 'MAS199  ', 'MAS2    ', 'MAS204  ', 'MAS205  ', 'MAS207  ', 'MAS2521 ', 'MAS2528 ', 'MAS2530 ', 'MAS2532 ', 'MAS2542 ', 'MAS2543 ', 'MAS2547 ', 'MAS2551 ', 'MAS2574 ', 'MAS2575 ', 'MAS2593 ', 'MAS2594 ', 'MAS2597 ', 'MAS2603 ', 'MAS2606 ', 'MAS2610 ', 'MAS2611 ', 'MAS2616 ', 'MAS2626 ', 'MAS2634 ', 'MAS2635 ', 'MAS2637 ', 'MAS2638 ', 'MAS2639 ', 'MAS2641 ', 'MAS2645 ', 'MAS2646 ', 'MAS2660 ', 'MAS2664 ', 'MAS2665 ', 'MAS2710 ', 'MAS2711 ', 'MAS2715 ', 'MAS2716 ', 'MAS2742 ', 'MAS2743 ', 'MAS3    ', 'MAS318  ', 'MAS319  ', 'MAS366  ', 'MAS367  ', 'MAS376  ', 'MAS377  ', 'MAS386  ', 'MAS387  ', 'MAS388  ', 'MAS389  ', 'MAS390  ', 'MAS391  ', 'MAS4    ', 'MAS484  ', 'MAS485  ', 'MAS52   ', 'MAS53   ', 'MAS5594 ', 'MAS601  ', 'MAS602  ', 'MAS603  ', 'MAS604  ', 'MAS605  ', 'MAS606  ', 'MAS607  ', 'MAS608  ', 'MAS609  ', 'MAS610  ', 'MAS611  ', 'MAS6116 ', 'MAS6117 ', 'MAS6123 ', 'MAS6127 ', 'MAS613  ', 'MAS614  ', 'MAS616  ', 'MAS6163 ', 'MAS6178 ', 'MAS619  ', 'MAS620  ', 'MAS6203 ', 'MAS623  ', 'MAS624  ', 'MAS6246 ', 'MAS6247 ', 'MAS627  ', 'MAS628  ', 'MAS704  ', 'MAS705  ', 'MAS710  ', 'MAS711  ', 'MAS712  ', 'MAS713  ', 'MAS714  ', 'MAS715  ', 'MAS720  ', 'MAS721  ', 'MAS722  ', 'MAS723  ', 'MAS724  ', 'MAS725  ', 'MAS726  ', 'MAS727  ', 'MAS740  ', 'MAS741  ', 'MAS748  ', 'MAS749  ', 'MAS750  ', 'MAS751  ', 'MAS752  ', 'MAS753  ', 'MAS754  ', 'MAS755  ', 'MAS758  ', 'MAS759  ', 'MAS762  ', 'MAS763  ', 'MAS774  ', 'MAS775  ', 'MAS780  ', 'MAS781  ', 'MAS782  ', 'MAS783  ', 'MAS784  ', 'MAS785  ', 'MAS786  ', 'MAS787  ', 'MAS788  ', 'MAS789  ', 'MAS794  ', 'MAS795  ', 'MAS796  ', 'MAS797  ', 'MAS804  ', 'MAS805  ', 'MAS806  ', 'MAS807  ', 'MAS850  ', 'MAS851  ', 'MAS852  ', 'MAS853  ', 'MAS864  ', 'MAS865  ', 'MAS870  ', 'MAS871  ', 'MAS88   ', 'MAS8829 ', 'MAU646  ', 'MC1     ', 'MDA1858 ', 'MEDIC15 ', 'MEDIC45 ', 'MEDIC77 ', 'MEDIC78 ', 'MMA231  ', 'MMA232  ', 'MMA233  ', 'MMA234  ', 'MMA452  ', 'MMA453  ', 'MMA501  ', 'MMA502  ', 'MMF37   ', 'MSR977  ', 'MSR978  ', 'MWG3012 ', 'MWG3013 ', 'MWG3014 ', 'MWG3015 ', 'MWG3016 ', 'MWG3017 ', 'MWG3018 ', 'MWG3019 ', 'MWG3041 ', 'MWG3042 ', 'MWG3043 ', 'MWG3044 ', 'MWG3045 ', 'MWG3046 ', 'MWG3047 ', 'MWG3048 ', 'MWG3220 ', 'MWG3221 ', 'MWG3223 ', 'MWG3224 ', 'MWG3227 ', 'MWG3228 ', 'MWG3251 ', 'MWG3252 ', 'MWG3420 ', 'MWG3421 ', 'MWG3422 ', 'MWG3423 ', 'MWG3445 ', 'MWG3446 ', 'MWG3470 ', 'MWG3471 ', 'MWG3472 ', 'MWG3475 ', 'MWG3630 ', 'MWG3631 ', 'MWG3632 ', 'MWG3633 ', 'MWG3651 ', 'MWG3652 ', 'MWG3653 ', 'MWG3654 ', 'MWG3655 ', 'MWG3656 ', 'MWG3744 ', 'MWG3745 ', 'MWG3752 ', 'MWG3753 ', 'MWG3760 ', 'MWG3761 ', 'MXD1002 ', 'MXD1003 ', 'MXD1006 ', 'MXD1007 ', 'MXD1163 ', 'MXD1164 ', 'MXD131  ', 'MXD132  ', 'MXD135  ', 'MXD136  ', 'MXD155  ', 'MXD156  ', 'MXD157  ', 'MXD158  ', 'MXD161  ', 'MXD162  ', 'MXD1636 ', 'MXD1637 ', 'MXD1638 ', 'MXD1639 ', 'MXD1640 ', 'MXD1641 ', 'MXD171  ', 'MXD172  ', 'MXD176  ', 'MXD177  ', 'MXD178  ', 'MXD181  ', 'MXD181D ', 'MXD182  ', 'MXD182D ', 'MXD183  ', 'MXD184  ', 'MXD1900 ', 'MXD1901 ', 'MXD1906 ', 'MXD1907 ', 'MXD1908 ', 'MXD191  ', 'MXD192  ', 'MXD193  ', 'MXD194  ', 'MXD205  ', 'MXD206  ', 'MXD2101 ', 'MXD2102 ', 'MXD2103 ', 'MXD2104 ', 'MXD2107 ', 'MXD2108 ', 'MXD2117 ', 'MXD215  ', 'MXD216  ', 'MXD2203 ', 'MXD2204 ', 'MXD2205 ', 'MXD2206 ', 'MXD2210 ', 'MXD2211 ', 'MXD223  ', 'MXD224  ', 'MXD2302 ', 'MXD2303 ', 'MXD2304 ', 'MXD2305 ', 'MXD232  ', 'MXD2403 ', 'MXD2404 ', 'MXD2405 ', 'MXD2406 ', 'MXD241  ', 'MXD272  ', 'MXD295  ', 'MXD296  ', 'MXD306  ', 'MXD307  ', 'MXD308  ', 'MXD309  ', 'MXD310  ', 'MXD311  ', 'MXD312  ', 'MXD313  ', 'MXD317  ', 'MXD318  ', 'MXD319  ', 'MXD320  ', 'MXD324  ', 'MXD325  ', 'MXD342  ', 'MXD343  ', 'MXD348  ', 'MXD349  ', 'MXD350  ', 'MXD351  ', 'MXD352  ', 'MXD353  ', 'MXD356  ', 'MXD367  ', 'MXD4164 ', 'MXD502  ', 'MXD503  ', 'MXD522  ', 'MXD523  ', 'MXD524  ', 'MXD525  ', 'MXD526  ', 'MXD527  ', 'MXD540  ', 'MXD541  ', 'MXD542  ', 'MXD543  ', 'MXD571  ', 'MXD572  ', 'MXD586  ', 'MXD587  ', 'MXD588  ', 'MXD589  ', 'MXD605  ', 'MXD606  ', 'MXD608  ', 'MXD609  ', 'MXD612  ', 'MXD613  ', 'MXD664  ', 'MXD665  ', 'MXD670  ', 'MXD671  ', 'MXD672  ', 'MXD673  ', 'MXD694  ', 'MXD695  ', 'MXD705  ', 'MXD706  ', 'MXD714  ', 'MXD752  ', 'MXD801  ', 'MXD802  ', 'MXD803  ', 'MXD804  ', 'MXD805  ', 'MXD806  ', 'MXD820  ', 'MXD821  ', 'MXD870  ', 'MXD871  ', 'MXD872  ', 'MXD881  ', 'MXD886  ', 'MXD887  ', 'MYU219  ', 'MYU220  ', 'MYU221  ', 'MYU224  ', 'MYU5507 ', 'MYU6011 ', 'MYU6012 ', 'MYU7701 ', 'MYU912  ', 'MYU923  ', 'MYU924  ', 'MYU935  ', 'N181CW  ', 'N5748E  ', 'N61WX   ', 'N777ZH  ', 'N781EB  ', 'N818WB  ', 'N830EM  ', 'N868SG  ', 'N988GG  ', 'NCA235  ', 'NCA254  ', 'NOK500  ', 'NOK501  ', 'NOK508  ', 'NOK509  ', 'NOK558  ', 'NV314   ', 'ODTBV   ', 'OEY100  ', 'OEY101  ', 'OMA823  ', 'OMA824  ', 'OMA849  ', 'OMA850  ', 'OPSCAR1 ', 'OPSCAR2 ', 'OPSCAR3 ', 'PAL501  ', 'PAL502  ', 'PAL507  ', 'PAL508  ', 'PAL509  ', 'PAL510  ', 'PAL511  ', 'PAL512  ', 'PAL521  ', 'PAL522  ', 'PAL525  ', 'PAL527  ', 'PAL528  ', 'PAL535  ', 'PAL536  ', 'PAL537  ', 'PAL538  ', 'PAL539  ', 'PAL540  ', 'PAL591  ', 'PAL592  ', 'PAL658  ', 'PAL739  ', 'PALAWAN1', 'PALAWAN2', 'PAS310  ', 'PAS311  ', 'PAS314  ', 'PAS315  ', 'PAS320  ', 'PAS321  ', 'PAS322  ', 'PAS323  ', 'PAS324  ', 'PAS325  ', 'PAS342  ', 'PAS343  ', 'PAS350  ', 'PAS351  ', 'PAS354  ', 'PAS355  ', 'PAS356  ', 'PAS357  ', 'PAS630  ', 'PAS631  ', 'PAS632  ', 'PAS633  ', 'PAS7300 ', 'PAS7301 ', 'PIC6036 ', 'PIC6100 ', 'PIC6101 ', 'PIC6150 ', 'PIC6220 ', 'PIC6441 ', 'PIC6592 ', 'PKNKV   ', 'PKNMI   ', 'PKRTY   ', 'PKSNM   ', 'PKTMI   ', 'PKTVB   ', 'PKTVJ   ', 'PKTVM   ', 'PREGN   ', 'QDA6190 ', 'QDA9893 ', 'QDA9894 ', 'QFA1    ', 'QFA2    ', 'QFA291  ', 'QFA292  ', 'QFA295  ', 'QFA296  ', 'QFA35   ', 'QFA36   ', 'QFA37   ', 'QFA38   ', 'QFA51   ', 'QFA52   ', 'QFA69   ', 'QFA70   ', 'QFA71   ', 'QFA72   ', 'QQE201  ', 'QSMB    ', 'QTR16X  ', 'QTR42R  ', 'QTR5G   ', 'QTR62G  ', 'QTR66A  ', 'QTR8416 ', 'QTR8842 ', 'QTR8902 ', 'QTR8903 ', 'QTR8972 ', 'QTR8973 ', 'QTR8979 ', 'QTR942  ', 'QTR943  ', 'QTR944  ', 'QTR945  ', 'QTR947  ', 'QTR948  ', 'QTR954  ', 'QTR956  ', 'QTR958  ', 'QTR960  ', 'QTR961  ', 'QTR962  ', 'QTR963  ', 'QTR964  ', 'QTR965  ', 'QTR970  ', 'QTR971  ', 'QTR974  ', 'QTR975  ', 'QXC2 9  ', 'QZP 8DP ', 'R11     ', 'R12     ', 'R13     ', 'R14     ', 'R16     ', 'R17     ', 'R18     ', 'R19     ', 'R22     ', 'R26     ', 'R27     ', 'R28     ', 'R30     ', 'R31     ', 'R32     ', 'R33     ', 'R36     ', 'R37     ', 'R40     ', 'R42     ', 'R43     ', 'R45     ', 'R47     ', 'R48     ', 'R52     ', 'R53     ', 'R58     ', 'R59     ', 'R6      ', 'R60     ', 'R61     ', 'R62     ', 'R63     ', 'R65     ', 'R68     ', 'R69     ', 'R7      ', 'R70     ', 'R71     ', 'R72     ', 'R75     ', 'R77     ', 'R78     ', 'R80     ', 'R82     ', 'R83     ', 'R85     ', 'R86     ', 'R87     ', 'R88     ', 'R90     ', 'R91     ', 'R93     ', 'RA20092 ', 'RBA1    ', 'RBA381  ', 'RBA382  ', 'RBA421  ', 'RBA422  ', 'RBA423  ', 'RBA424  ', 'RBA451  ', 'RBA452  ', 'RBA513  ', 'RBA514  ', 'RBA6    ', 'RBA639  ', 'RBA640  ', 'RBA651  ', 'RBA652  ', 'RBA695  ', 'RBA738  ', 'RBA827  ', 'RBA828  ', 'RBA855  ', 'RBA856  ', 'RBA873  ', 'RBA874  ', 'RBA97   ', 'RLH5052 ', 'RMY1862 ', 'RMY3507 ', 'RMY3508 ', 'RMY382  ', 'RMY383  ', 'RMY6826 ', 'RMY6827 ', 'RMY7019 ', 'RMY7026 ', 'RMY7864 ', 'RPC629  ', 'RPC8450 ', 'RSM8568 ', 'RXI5016 ', 'SAF8440 ', 'SIA103  ', 'SIA104  ', 'SIA105  ', 'SIA106  ', 'SIA107  ', 'SIA108  ', 'SIA11   ', 'SIA113  ', 'SIA114  ', 'SIA115  ', 'SIA116  ', 'SIA12   ', 'SIA121  ', 'SIA122  ', 'SIA125  ', 'SIA126  ', 'SIA127  ', 'SIA128  ', 'SIA131  ', 'SIA132  ', 'SIA133  ', 'SIA134  ', 'SIA135  ', 'SIA136  ', 'SIA141  ', 'SIA142  ', 'SIA147  ', 'SIA148  ', 'SIA153  ', 'SIA154  ', 'SIA155  ', 'SIA156  ', 'SIA157  ', 'SIA158  ', 'SIA163  ', 'SIA164  ', 'SIA171  ', 'SIA172  ', 'SIA173  ', 'SIA174  ', 'SIA177  ', 'SIA178  ', 'SIA185  ', 'SIA186  ', 'SIA191  ', 'SIA192  ', 'SIA193  ', 'SIA194  ', 'SIA207  ', 'SIA208  ', 'SIA21   ', 'SIA211  ', 'SIA212  ', 'SIA213  ', 'SIA214  ', 'SIA215  ', 'SIA216  ', 'SIA217  ', 'SIA218  ', 'SIA22   ', 'SIA221  ', 'SIA222  ', 'SIA223  ', 'SIA224  ', 'SIA225  ', 'SIA226  ', 'SIA227  ', 'SIA228  ', 'SIA23   ', 'SIA231  ', 'SIA232  ', 'SIA235  ', 'SIA236  ', 'SIA237  ', 'SIA238  ', 'SIA24   ', 'SIA241  ', 'SIA242  ', 'SIA245  ', 'SIA246  ', 'SIA247  ', 'SIA248  ', 'SIA251  ', 'SIA252  ', 'SIA255  ', 'SIA256  ', 'SIA26   ', 'SIA265  ', 'SIA266  ', 'SIA278  ', 'SIA279  ', 'SIA28   ', 'SIA285  ', 'SIA286  ', 'SIA297  ', 'SIA298  ', 'SIA305  ', 'SIA306  ', 'SIA308  ', 'SIA309  ', 'SIA31   ', 'SIA317  ', 'SIA318  ', 'SIA319  ', 'SIA32   ', 'SIA321  ', 'SIA322  ', 'SIA323  ', 'SIA324  ', 'SIA325  ', 'SIA326  ', 'SIA327  ', 'SIA328  ', 'SIA33   ', 'SIA331  ', 'SIA332  ', 'SIA335  ', 'SIA336  ', 'SIA34   ', 'SIA345  ', 'SIA346  ', 'SIA351  ', 'SIA352  ', 'SIA355  ', 'SIA365  ', 'SIA366  ', 'SIA37   ', 'SIA378  ', 'SIA38   ', 'SIA392  ', 'SIA401  ', 'SIA402  ', 'SIA403  ', 'SIA406  ', 'SIA421  ', 'SIA422  ', 'SIA423  ', 'SIA424  ', 'SIA431  ', 'SIA432  ', 'SIA437  ', 'SIA438  ', 'SIA441  ', 'SIA442  ', 'SIA446  ', 'SIA447  ', 'SIA468  ', 'SIA469  ', 'SIA478  ', 'SIA479  ', 'SIA494  ', 'SIA495  ', 'SIA504  ', 'SIA505  ', 'SIA508  ', 'SIA509  ', 'SIA510  ', 'SIA511  ', 'SIA516  ', 'SIA517  ', 'SIA52   ', 'SIA522  ', 'SIA523  ', 'SIA524  ', 'SIA525  ', 'SIA528  ', 'SIA529  ', 'SIA534  ', 'SIA535  ', 'SIA600  ', 'SIA601  ', 'SIA605  ', 'SIA606  ', 'SIA607  ', 'SIA608  ', 'SIA611  ', 'SIA612  ', 'SIA615  ', 'SIA618  ', 'SIA619  ', 'SIA620  ', 'SIA621  ', 'SIA622  ', 'SIA623  ', 'SIA631  ', 'SIA632  ', 'SIA633  ', 'SIA634  ', 'SIA635  ', 'SIA636  ', 'SIA637  ', 'SIA638  ', 'SIA655  ', 'SIA656  ', 'SIA671  ', 'SIA672  ', 'SIA705  ', 'SIA706  ', 'SIA707  ', 'SIA708  ', 'SIA709  ', 'SIA710  ', 'SIA711  ', 'SIA712  ', 'SIA713  ', 'SIA714  ', 'SIA7147 ', 'SIA719  ', 'SIA720  ', 'SIA725  ', 'SIA726  ', 'SIA727  ', 'SIA728  ', 'SIA731  ', 'SIA732  ', 'SIA7343 ', 'SIA735  ', 'SIA7356 ', 'SIA736  ', 'SIA7365 ', 'SIA739  ', 'SIA740  ', 'SIA7402 ', 'SIA7433 ', 'SIA7440 ', 'SIA761  ', 'SIA762  ', 'SIA7823 ', 'SIA7824 ', 'SIA7847 ', 'SIA7848 ', 'SIA800  ', 'SIA801  ', 'SIA802  ', 'SIA805  ', 'SIA806  ', 'SIA807  ', 'SIA818  ', 'SIA819  ', 'SIA825  ', 'SIA826  ', 'SIA827  ', 'SIA828  ', 'SIA830  ', 'SIA831  ', 'SIA832  ', 'SIA833  ', 'SIA835  ', 'SIA836  ', 'SIA842  ', 'SIA843  ', 'SIA850  ', 'SIA851  ', 'SIA852  ', 'SIA853  ', 'SIA856  ', 'SIA857  ', 'SIA861  ', 'SIA868  ', 'SIA869  ', 'SIA874  ', 'SIA875  ', 'SIA876  ', 'SIA877  ', 'SIA878  ', 'SIA879  ', 'SIA882  ', 'SIA883  ', 'SIA892  ', 'SIA893  ', 'SIA894  ', 'SIA895  ', 'SIA896  ', 'SIA897  ', 'SIA898  ', 'SIA899  ', 'SIA900  ', 'SIA901  ', 'SIA910  ', 'SIA912  ', 'SIA915  ', 'SIA916  ', 'SIA917  ', 'SIA918  ', 'SIA919  ', 'SIA921  ', 'SIA922  ', 'SIA923  ', 'SIA926  ', 'SIA927  ', 'SIA928  ', 'SIA929  ', 'SIA934  ', 'SIA9345 ', 'SIA935  ', 'SIA936  ', 'SIA937  ', 'SIA938  ', 'SIA939  ', 'SIA944  ', 'SIA945  ', 'SIA946  ', 'SIA947  ', 'SIA948  ', 'SIA949  ', 'SIA950  ', 'SIA951  ', 'SIA953  ', 'SIA956  ', 'SIA957  ', 'SIA958  ', 'SIA959  ', 'SIA962  ', 'SIA963  ', 'SIA964  ', 'SIA965  ', 'SIA968  ', 'SIA990  ', 'SIA991  ', 'SIA994  ', 'SIA995  ', 'SIC2P   ', 'SJV168  ', 'SJV169  ', 'SJV186  ', 'SJV187  ', 'SJV192  ', 'SJV193  ', 'SJV333  ', 'SJV362  ', 'SJV363  ', 'SJV660  ', 'SJV661  ', 'SJV680  ', 'SJV681  ', 'SJV682  ', 'SJV683  ', 'SJV696  ', 'SJV698  ', 'SJV699  ', 'SJV810  ', 'SJV811  ', 'SJV812  ', 'SJV813  ', 'SJV815  ', 'SJV816  ', 'SJV817  ', 'SJV832  ', 'SJV833  ', 'SJV840  ', 'SJV841  ', 'SJV842  ', 'SJV843  ', 'SJV846  ', 'SJV847  ', 'SJV854  ', 'SJV855  ', 'SJV856  ', 'SJV857  ', 'SJV858  ', 'SJV862  ', 'SJV863  ', 'SJV864  ', 'SJV865  ', 'SJV866  ', 'SJV867  ', 'SJV870  ', 'SJV871  ', 'SJV872  ', 'SJV873  ', 'SJV874  ', 'SJV878  ', 'SJV879  ', 'SJV880  ', 'SJV881  ', 'SJV888  ', 'SJV889  ', 'SJV896  ', 'SJV897  ', 'SJV899  ', 'SJV900  ', 'SJV901  ', 'SJV910  ', 'SJV911  ', 'SJV912  ', 'SJV919  ', 'SJV921  ', 'SJV924  ', 'SJV925  ', 'SJV933  ', 'SJV935  ', 'SJV941  ', 'SJV946  ', 'SJV948  ', 'SJV950  ', 'SJV951  ', 'SJV954  ', 'SJV955  ', 'SJV956  ', 'SJV957  ', 'SJV958  ', 'SJV959  ', 'SJV964  ', 'SJV965  ', 'SJV966  ', 'SJV967  ', 'SJV994  ', 'SJV995  ', 'SJX1705 ', 'SJX1706 ', 'SJX712  ', 'SJX713  ', 'SJX714  ', 'SJX725  ', 'SJX726  ', 'SJX761  ', 'SJX762  ', 'SJX771  ', 'SJX772  ', 'SJY055  ', 'SJY072  ', 'SJY184  ', 'SV1     ', 'SV2     ', 'SV3     ', 'SVA816  ', 'SVA817  ', 'SVA818  ', 'SVA820  ', 'SVA822  ', 'SVA826  ', 'SVA830  ', 'SVA831  ', 'SVA834  ', 'SVA835  ', 'SVA840  ', 'SVA841  ', 'SWM215  ', 'SWM672  ', 'SWM673  ', 'SWM674  ', 'SWM678  ', 'SWM679  ', 'SWP1    ', 'SWP2    ', 'SWR176  ', 'SWR177  ', 'T7327   ', 'T7852   ', 'T7FCN   ', 'T7PTL   ', 'TANOM01 ', 'TBJ75   ', 'TCJ03   ', 'TEGUH11 ', 'TENDER11', 'TENDER12', 'TENDER13', 'TENDER14', 'TENDER21', 'TENDER22', 'TENDER23', 'TENDER31', 'TENDER32', 'TENDER33', 'TENDER34', 'TENDER41', 'TENDER42', 'TESTSIN1', 'TGN713  ', 'TGN744  ', 'TGW100  ', 'TGW101  ', 'TGW117  ', 'TGW118  ', 'TGW119  ', 'TGW12   ', 'TGW120  ', 'TGW121  ', 'TGW124  ', 'TGW125  ', 'TGW13   ', 'TGW134  ', 'TGW135  ', 'TGW138  ', 'TGW139  ', 'TGW156  ', 'TGW157  ', 'TGW16   ', 'TGW160  ', 'TGW161  ', 'TGW17   ', 'TGW172  ', 'TGW174  ', 'TGW176  ', 'TGW177  ', 'TGW18   ', 'TGW180  ', 'TGW181  ', 'TGW183  ', 'TGW186  ', 'TGW187  ', 'TGW188  ', 'TGW189  ', 'TGW2    ', 'TGW200  ', 'TGW201  ', 'TGW222  ', 'TGW234  ', 'TGW235  ', 'TGW24   ', 'TGW25   ', 'TGW262  ', 'TGW263  ', 'TGW266  ', 'TGW267  ', 'TGW276  ', 'TGW277  ', 'TGW278  ', 'TGW279  ', 'TGW280  ', 'TGW281  ', 'TGW284  ', 'TGW285  ', 'TGW286  ', 'TGW287  ', 'TGW293  ', 'TGW3    ', 'TGW304  ', 'TGW305  ', 'TGW306  ', 'TGW307  ', 'TGW350  ', 'TGW351  ', 'TGW371  ', 'TGW384  ', 'TGW385  ', 'TGW389  ', 'TGW390  ', 'TGW391  ', 'TGW394  ', 'TGW395  ', 'TGW396  ', 'TGW397  ', 'TGW410  ', 'TGW411  ', 'TGW412  ', 'TGW413  ', 'TGW424  ', 'TGW425  ', 'TGW426  ', 'TGW427  ', 'TGW428  ', 'TGW429  ', 'TGW433  ', 'TGW448  ', 'TGW449  ', 'TGW452  ', 'TGW453  ', 'TGW456  ', 'TGW457  ', 'TGW462  ', 'TGW463  ', 'TGW468  ', 'TGW469  ', 'TGW472  ', 'TGW473  ', 'TGW484  ', 'TGW485  ', 'TGW486  ', 'TGW487  ', 'TGW488  ', 'TGW490  ', 'TGW491  ', 'TGW530  ', 'TGW531  ', 'TGW540  ', 'TGW541  ', 'TGW562  ', 'TGW563  ', 'TGW564  ', 'TGW565  ', 'TGW578  ', 'TGW579  ', 'TGW597  ', 'TGW600  ', 'TGW601  ', 'TGW604  ', 'TGW605  ', 'TGW608  ', 'TGW609  ', 'TGW610  ', 'TGW611  ', 'TGW624  ', 'TGW625  ', 'TGW632  ', 'TGW633  ', 'TGW640  ', 'TGW641  ', 'TGW642  ', 'TGW643  ', 'TGW652  ', 'TGW653  ', 'TGW658  ', 'TGW659  ', 'TGW674  ', 'TGW675  ', 'TGW684  ', 'TGW685  ', 'TGW690  ', 'TGW691  ', 'TGW720  ', 'TGW721  ', 'TGW8    ', 'TGW808  ', 'TGW809  ', 'TGW812  ', 'TGW813  ', 'TGW818  ', 'TGW820  ', 'TGW821  ', 'TGW843  ', 'TGW874  ', 'TGW875  ', 'TGW893  ', 'TGW898  ', 'TGW899  ', 'TGW9    ', 'TGW904  ', 'TGW905  ', 'TGW972  ', 'TGW973  ', 'THA259  ', 'THA260  ', 'THA263  ', 'THA264  ', 'THA267  ', 'THA268  ', 'THA401  ', 'THA402  ', 'THA403  ', 'THA404  ', 'THA407  ', 'THA408  ', 'THA409  ', 'THA410  ', 'THA413  ', 'THA414  ', 'THA415  ', 'THA416  ', 'THA417  ', 'THA418  ', 'THA425  ', 'THA426  ', 'THA431  ', 'THA432  ', 'THA433  ', 'THA434  ', 'THA435  ', 'THA436  ', 'THA461  ', 'THA462  ', 'THA465  ', 'THA466  ', 'THA471  ', 'THA472  ', 'THA475  ', 'THA476  ', 'THA484  ', 'THA550  ', 'THA551  ', 'THA556  ', 'THA557  ', 'THA584  ', 'THA585  ', 'THA586  ', 'THA587  ', 'THY056  ', 'THY057  ', 'THY066  ', 'THY067  ', 'THY162  ', 'THY163  ', 'THY168  ', 'THY208  ', 'THY209  ', 'THY39V  ', 'THY45M  ', 'THY48L  ', 'THY49A  ', 'THY508  ', 'THY54   ', 'THY55   ', 'TITUS71 ', 'TLM100  ', 'TLM101  ', 'TLM116  ', 'TLM117  ', 'TLM1790 ', 'TLM1791 ', 'TLM702  ', 'TLM703  ', 'TLM706  ', 'TLM707  ', 'TLM710  ', 'TLM711  ', 'TLM714  ', 'TLM715  ', 'TLM720  ', 'TLM721  ', 'TLM792  ', 'TLM793  ', 'TMG019  ', 'TMG171  ', 'TMG306  ', 'TMN11   ', 'TMN14   ', 'TNU151  ', 'TNU152  ', 'TNU673  ', 'TNU674  ', 'TNU675  ', 'TNU676  ', 'TNU679  ', 'TNU680  ', 'TNU698  ', 'TNU699  ', 'TNU860  ', 'TNU861  ', 'TSL01   ', 'TSL03   ', 'TTW503  ', 'TTW504  ', 'TTW557  ', 'TTW558  ', 'TUA651  ', 'TUA652  ', 'TUA801  ', 'TUA802  ', 'TVJ320  ', 'TVJ321  ', 'TVJ324  ', 'TVJ325  ', 'TVJ328  ', 'TVJ329  ', 'TVJ720  ', 'TVJ721  ', 'TVJ722  ', 'TVJ723  ', 'TVJ980  ', 'TVJ981  ', 'TWB121  ', 'TWB122  ', 'TWB169  ', 'TWB170  ', 'TWB171  ', 'TWB172  ', 'TZP53   ', 'TZP54   ', 'UAE2L   ', 'UAE346  ', 'UAE348  ', 'UAE349  ', 'UAE352  ', 'UAE353  ', 'UAE354  ', 'UAE355  ', 'UAE356  ', 'UAE358  ', 'UAE368  ', 'UAE369  ', 'UAE392  ', 'UAE393  ', 'UAE398  ', 'UAE399  ', 'UAE3M   ', 'UAE404  ', 'UAE405  ', 'UAE5R   ', 'UAE75T  ', 'UAE7Q   ', 'UAE8V   ', 'UAE8Y   ', 'UAE9824 ', 'UAL2    ', 'UBA1    ', 'UBA2    ', 'UBG307  ', 'UBG308  ', 'UBG315  ', 'UBG316  ', 'UFA830  ', 'UPS144  ', 'UPS146  ', 'UPS147  ', 'UPS166  ', 'UPS167  ', 'UPS67   ', 'UPS68   ', 'UT1     ', 'UT10    ', 'UT3     ', 'UT4     ', 'UT5     ', 'UT6     ', 'UT7     ', 'V8BSP   ', 'V8MHB   ', 'V8RBB   ', 'V8RBG   ', 'VAG1182 ', 'VAG1183 ', 'VAG120  ', 'VAG121  ', 'VAG304  ', 'VAG305  ', 'VAG750  ', 'VAG792  ', 'VFC8002 ', 'VFC8003 ', 'VFC8060 ', 'VFC8061 ', 'VFC8066 ', 'VFC8067 ', 'VFC8099 ', 'VJ081   ', 'VJ978   ', 'VJC1150 ', 'VJC1164 ', 'VJC1190 ', 'VJC120  ', 'VJC122  ', 'VJC126  ', 'VJC128  ', 'VJC133  ', 'VJC142  ', 'VJC1468 ', 'VJC156  ', 'VJC157  ', 'VJC160  ', 'VJC1603 ', 'VJC1622 ', 'VJC163  ', 'VJC1638 ', 'VJC168  ', 'VJC172  ', 'VJC174  ', 'VJC176  ', 'VJC1805 ', 'VJC1806 ', 'VJC182  ', 'VJC198  ', 'VJC199  ', 'VJC210  ', 'VJC212  ', 'VJC215  ', 'VJC216  ', 'VJC217  ', 'VJC221  ', 'VJC240  ', 'VJC243  ', 'VJC250  ', 'VJC263  ', 'VJC264  ', 'VJC274  ', 'VJC276  ', 'VJC280  ', 'VJC282  ', 'VJC298  ', 'VJC299  ', 'VJC302  ', 'VJC306  ', 'VJC308  ', 'VJC309  ', 'VJC322  ', 'VJC323  ', 'VJC324  ', 'VJC327  ', 'VJC328  ', 'VJC331  ', 'VJC336  ', 'VJC337  ', 'VJC356  ', 'VJC358  ', 'VJC362  ', 'VJC363  ', 'VJC370  ', 'VJC372  ', 'VJC376  ', 'VJC377  ', 'VJC378  ', 'VJC379  ', 'VJC380  ', 'VJC382  ', 'VJC384  ', 'VJC3900 ', 'VJC3901 ', 'VJC3930 ', 'VJC3931 ', 'VJC396  ', 'VJC398  ', 'VJC451  ', 'VJC452  ', 'VJC455  ', 'VJC456  ', 'VJC458  ', 'VJC459  ', 'VJC461  ', 'VJC462  ', 'VJC463  ', 'VJC488  ', 'VJC489  ', 'VJC604  ', 'VJC628  ', 'VJC630  ', 'VJC634  ', 'VJC642  ', 'VJC702  ', 'VJC703  ', 'VJC80   ', 'VJC801  ', 'VJC802  ', 'VJC803  ', 'VJC804  ', 'VJC805  ', 'VJC806  ', 'VJC808  ', 'VJC809  ', 'VJC81   ', 'VJC811  ', 'VJC812  ', 'VJC813  ', 'VJC814  ', 'VJC82   ', 'VJC820  ', 'VJC822  ', 'VJC825  ', 'VJC826  ', 'VJC828  ', 'VJC829  ', 'VJC842  ', 'VJC844  ', 'VJC845  ', 'VJC85   ', 'VJC854  ', 'VJC855  ', 'VJC86   ', 'VJC861  ', 'VJC862  ', 'VJC864  ', 'VJC868  ', 'VJC883  ', 'VJC885  ', 'VJC886  ', 'VJC893  ', 'VJC894  ', 'VJC897  ', 'VJC898  ', 'VJC899  ', 'VJC900  ', 'VJC915  ', 'VJC916  ', 'VJC928  ', 'VJC929  ', 'VJC94   ', 'VJC968  ', 'VJC969  ', 'VJC970  ', 'VJC973  ', 'VJC974  ', 'VJC975  ', 'VJC976  ', 'VJC977  ', 'VJC978  ', 'VJC979  ', 'VJC985  ', 'VJC986  ', 'VJC994  ', 'VJC995  ', 'VJC997  ', 'VJC998  ', 'VJJC262 ', 'VJT453  ', 'VJT708  ', 'VMMC    ', 'VN8622  ', 'VN8646  ', 'VNC918  ', 'VPCAK   ', 'VPCGO   ', 'VPCPT   ', 'VTI105  ', 'VTI106  ', 'VTI107  ', 'VTI108  ', 'VTI115  ', 'VTI116  ', 'VTI145  ', 'VTI146  ', 'W31     ', 'WATER11 ', 'WATER21 ', 'WATER41 ', 'WCM3806 ', 'WCM3807 ', 'WCM3808 ', 'WCM3809 ', 'WCM6608 ', 'WCM6657 ', 'WCM880  ', 'WCM881  ', 'WIJ 1   ', 'WON1270 ', 'WON1271 ', 'WON1344 ', 'WON1345 ', 'WON1346 ', 'WON1347 ', 'WON1440 ', 'WON1441 ', 'WSJC    ', 'WST151  ', 'WST152  ', 'XAX170  ', 'XAX171  ', 'XAX218  ', 'XAX220  ', 'XAX221  ', 'XAX222  ', 'XAX236  ', 'XAX237  ', 'XAX326  ', 'XAX327  ', 'XAX330  ', 'XAX331  ', 'XAX332  ', 'XAX333  ', 'XAX342  ', 'XAX343  ', 'XAX346  ', 'XAX347  ', 'XAX378  ', 'XAX379  ', 'XAX504  ', 'XAX505  ', 'XAX522  ', 'XAX523  ', 'XAX532  ', 'XAX533  ', 'XAX600  ', 'XAX601  ', 'XAX692  ', 'XAX693  ', 'XAX700  ', 'XAX701  ', 'XAX798  ', 'XAX799  '])"
      ]
     },
     "execution_count": 8,
     "metadata": {},
     "output_type": "execute_result"
    }
   ],
   "source": []
  },
  {
   "cell_type": "code",
   "execution_count": null,
   "id": "13af73e4",
   "metadata": {},
   "outputs": [
    {
     "name": "stdout",
     "output_type": "stream",
     "text": [
      "VTG TOD ['WM-KADAX', 'VT-GOLUD', 'VT-ABTOK', 'WM-VKB', 'WM-VENLI', 'WS-TIDAR', 'WS-VTK', 'WS-SAMKO', 'VV-SAMOG', 'WS-PU', 'WM-KK', 'WM-D10PU', 'WS-HOSBA', 'WI-TPG', 'WS-ATPOM', 'WS-TOMAN', 'WS-OBGET', 'WS-OBLOT', 'WS-ESPIT', 'WS-SABIP', 'WB-KAMIN', 'WS-TERIX', 'WS-IGARI', 'WM-INTOT', 'WM-RUMID', 'WM-SADON', 'WM-DUMOK', 'WM-BATAR', 'WM-VMK', 'WM-OGAKO', 'WM-TOPOR', 'WM-ARAMA', 'WM-D35SJ', 'WM-LELIB', 'WM-VJB', 'WM-JB', 'WS-ALFA', 'WM-AKOMA', 'WS-PU20']\n"
     ]
    }
   ],
   "source": []
  },
  {
   "cell_type": "markdown",
   "id": "f9592311",
   "metadata": {},
   "source": [
    "# Most waypoints were used in total"
   ]
  },
  {
   "cell_type": "code",
   "execution_count": null,
   "id": "dc41d81a",
   "metadata": {},
   "outputs": [],
   "source": [
    "waypoint_group = historical_date_flight_data.groupby(['closest_node'])"
   ]
  },
  {
   "cell_type": "code",
   "execution_count": null,
   "id": "595e077e",
   "metadata": {},
   "outputs": [
    {
     "data": {
      "text/html": [
       "<div>\n",
       "<style scoped>\n",
       "    .dataframe tbody tr th:only-of-type {\n",
       "        vertical-align: middle;\n",
       "    }\n",
       "\n",
       "    .dataframe tbody tr th {\n",
       "        vertical-align: top;\n",
       "    }\n",
       "\n",
       "    .dataframe thead th {\n",
       "        text-align: right;\n",
       "    }\n",
       "</style>\n",
       "<table border=\"1\" class=\"dataframe\">\n",
       "  <thead>\n",
       "    <tr style=\"text-align: right;\">\n",
       "      <th></th>\n",
       "      <th>closest_node</th>\n",
       "      <th>count</th>\n",
       "    </tr>\n",
       "  </thead>\n",
       "  <tbody>\n",
       "    <tr>\n",
       "      <th>0</th>\n",
       "      <td>WS-VTK</td>\n",
       "      <td>2281197</td>\n",
       "    </tr>\n",
       "    <tr>\n",
       "      <th>1</th>\n",
       "      <td>WS-TERIX</td>\n",
       "      <td>1117132</td>\n",
       "    </tr>\n",
       "    <tr>\n",
       "      <th>2</th>\n",
       "      <td>WS-LUSMO</td>\n",
       "      <td>672206</td>\n",
       "    </tr>\n",
       "    <tr>\n",
       "      <th>3</th>\n",
       "      <td>VV-DUDIS</td>\n",
       "      <td>596009</td>\n",
       "    </tr>\n",
       "    <tr>\n",
       "      <th>4</th>\n",
       "      <td>WS-ESPOB</td>\n",
       "      <td>547397</td>\n",
       "    </tr>\n",
       "    <tr>\n",
       "      <th>5</th>\n",
       "      <td>WS-DOLOX</td>\n",
       "      <td>529429</td>\n",
       "    </tr>\n",
       "    <tr>\n",
       "      <th>6</th>\n",
       "      <td>WS-TOMAN</td>\n",
       "      <td>391584</td>\n",
       "    </tr>\n",
       "    <tr>\n",
       "      <th>7</th>\n",
       "      <td>WS-LAGOT</td>\n",
       "      <td>379925</td>\n",
       "    </tr>\n",
       "    <tr>\n",
       "      <th>8</th>\n",
       "      <td>VV-CN</td>\n",
       "      <td>373912</td>\n",
       "    </tr>\n",
       "    <tr>\n",
       "      <th>9</th>\n",
       "      <td>WB-GULIB</td>\n",
       "      <td>350827</td>\n",
       "    </tr>\n",
       "  </tbody>\n",
       "</table>\n",
       "</div>"
      ],
      "text/plain": [
       "  closest_node    count\n",
       "0       WS-VTK  2281197\n",
       "1     WS-TERIX  1117132\n",
       "2     WS-LUSMO   672206\n",
       "3     VV-DUDIS   596009\n",
       "4     WS-ESPOB   547397\n",
       "5     WS-DOLOX   529429\n",
       "6     WS-TOMAN   391584\n",
       "7     WS-LAGOT   379925\n",
       "8        VV-CN   373912\n",
       "9     WB-GULIB   350827"
      ]
     },
     "execution_count": 54,
     "metadata": {},
     "output_type": "execute_result"
    }
   ],
   "source": [
    "# Top 10 most common waypoints\n",
    "top_waypoints = waypoint_group.size().nlargest(10)\n",
    "top_waypoints_df = pd.DataFrame(top_waypoints).reset_index()\n",
    "top_waypoints_df.columns = ['closest_node', 'count']\n",
    "top_waypoints_df\n"
   ]
  },
  {
   "cell_type": "code",
   "execution_count": null,
   "id": "87550640",
   "metadata": {},
   "outputs": [],
   "source": []
  }
 ],
 "metadata": {
  "kernelspec": {
   "display_name": "aiatfm",
   "language": "python",
   "name": "python3"
  },
  "language_info": {
   "codemirror_mode": {
    "name": "ipython",
    "version": 3
   },
   "file_extension": ".py",
   "mimetype": "text/x-python",
   "name": "python",
   "nbconvert_exporter": "python",
   "pygments_lexer": "ipython3",
   "version": "3.11.10"
  }
 },
 "nbformat": 4,
 "nbformat_minor": 5
}
