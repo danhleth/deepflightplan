{
 "cells": [
  {
   "cell_type": "markdown",
   "metadata": {},
   "source": [
    "# Overview\n",
    "Calculate flight percentages that we can shifting inside ASEAN with these contexts  below:\n",
    "\n",
    "- Domestic\n",
    "- International\n",
    "    - Among ASEAN countries\n",
    "    - Inbound\n",
    "    - Outbound\n",
    "- Among Lv3 airports\n",
    "- Outbound from Lv3 airports\n",
    "- Among lv2+lv3 airports\n",
    "- Outbound from Lv2+lv3 airports"
   ]
  },
  {
   "cell_type": "code",
   "execution_count": 1,
   "metadata": {},
   "outputs": [],
   "source": [
    "import pandas as pd\n",
    "import numpy as np\n",
    "import os\n",
    "from pathlib import Path"
   ]
  },
  {
   "cell_type": "code",
   "execution_count": 4,
   "metadata": {},
   "outputs": [
    {
     "data": {
      "text/plain": [
       "[PosixPath('/home/shared/data/oag/2024jan1_15_asean.zip')]"
      ]
     },
     "execution_count": 4,
     "metadata": {},
     "output_type": "execute_result"
    }
   ],
   "source": [
    "data_dir = \"/home/shared/data/oag\"\n",
    "airport_data_path = \"/home/danhle/AIATFM/data_preparation/deepflightplan/datasets/airports/iata-icao.csv\"\n",
    "\n",
    "# data_dir = Path(data_dir).glob(\"2024*.zip\")\n",
    "data_dir = Path(data_dir).glob(\"2024jan*.zip\")\n",
    "data_dir = sorted(data_dir)\n",
    "# data_dir.remove(Path(\"/home/shared/data/oag/2024jan1_15_asean.zip\"))\n",
    "data_dir"
   ]
  },
  {
   "cell_type": "code",
   "execution_count": 6,
   "metadata": {},
   "outputs": [
    {
     "name": "stdout",
     "output_type": "stream",
     "text": [
      "/home/shared/data/oag/2024jan1_15_asean.zip\n",
      "1413601\n"
     ]
    }
   ],
   "source": [
    "\n",
    "\n",
    "# Full data columns\n",
    "# Index(['Carrier Code', 'Dep Airport Code', 'Dep Airport Name', 'Dep City Name',\n",
    "#        'Dep DOT Country Name', 'Dep Region Name', 'Arr City Name',\n",
    "#        'Arr Airport Code', 'Arr Airport Name', 'Arr DOT Country Name',\n",
    "#        'Arr Region Name', 'International/Domestic', 'Flying Time',\n",
    "#        'Elapsed Time', 'Local Dep Time', 'Local Arr Time',\n",
    "#        'Specific Aircraft Code', 'General Aircraft Code',\n",
    "#        'Aircraft Range (km)', 'Seats', 'GCD (km)', 'GCD (NM)', 'Routing',\n",
    "#        'Aircraft Cruise Speed (MPH)', 'Aircraft Hold Volume (M3)', 'Flight No',\n",
    "#        'Carrier Name', 'FlyingTime (Minutes)', 'Economy seats (Total)',\n",
    "#        'Business seats (Total)', 'Seats (Total)', 'Time series',\n",
    "#        'from/to ASEAN'],\n",
    "#       dtype='object')\n",
    "\n",
    "df = pd.DataFrame()\n",
    "# Loop through all files in the directory\n",
    "for file in sorted(data_dir):\n",
    "    if file.is_file():\n",
    "        print(file)\n",
    "        tmp = pd.read_csv(file, compression=\"zip\", low_memory=False)\n",
    "        df = pd.concat([df, tmp], ignore_index=True)\n",
    "\n",
    "\n",
    "df = df.sort_values(by=['Time series'])\n",
    "df.reset_index(drop=True, inplace=True)\n",
    "df.drop_duplicates(inplace=True)\n",
    "print(len(df))"
   ]
  },
  {
   "cell_type": "code",
   "execution_count": 9,
   "metadata": {},
   "outputs": [],
   "source": [
    "# Filter out necessary columns\n",
    "df = df[['Dep Airport Code', 'Arr Airport Code', 'International/Domestic', 'Time series', 'Dep DOT Country Name', 'Arr DOT Country Name']]"
   ]
  },
  {
   "cell_type": "code",
   "execution_count": 10,
   "metadata": {},
   "outputs": [],
   "source": [
    "iata_icao_df = pd.read_csv(airport_data_path, low_memory=False)"
   ]
  },
  {
   "cell_type": "code",
   "execution_count": 11,
   "metadata": {},
   "outputs": [],
   "source": [
    "ASEAN_countries = [\"Brunei Darussalam\", \"Cambodia\", \"Indonesia\", \\\n",
    "                   \"Lao People's Democratic Republic\", \"Malaysia\",\\\n",
    "                    \"Myanmar\", \"Philippines\", \"Singapore\", \"Thailand\",\\\n",
    "                    \"Timor-leste\", \"Viet Nam\"]\n",
    "\n",
    "level_3_airport_icao = ['VTBD', 'VTCC', 'VTCT', 'VTSP', 'VTBS', \\\n",
    "                        'VTBU', 'VTSS', 'VTUO', 'VTSE', 'VTUK', \\\n",
    "                        'VTSG', 'VTCL', 'VTUL', 'VTBL', 'VTCH', \\\n",
    "                        'VTCI', 'VTBK', 'VTUW', 'VTUQ', 'VTUN', \\\n",
    "                        'VTPN', 'VTPI', 'VTSF', 'VTSN', 'VTCN', \\\n",
    "                        'VTSC', 'VTSK', 'VTPB', 'VTPP', 'VTCP', \\\n",
    "                        'VTBP', 'VTPH', 'VTSR', 'VTUV', 'VTBW', \\\n",
    "                        'VTUI', 'VTSH', 'VTPO', 'VTSB', 'VTSM', \\\n",
    "                        'VTPT', 'VTPM', 'VTST', 'VTBO', 'VTUU', \\\n",
    "                        'VTUD', 'VTSY', 'VTUZ', 'WSSS', 'VDPP', \\\n",
    "                        'VDSA', 'VDSV']\n",
    "\n",
    "level_2_airport_icao = ['WIII', 'WADD', 'WARR', 'WBGG', 'WBKK', \\\n",
    "                        'WMKI', 'WMKJ', 'WMKL', 'WMKP', 'WMSA', \\\n",
    "                        'WMKK', 'RPLL', 'RPLC', 'RPVM', 'RPSP', \\\n",
    "                        'VYYY', 'VYMD', 'VYNT', 'VVTS', 'VVNB', \\\n",
    "                        'VVDN', 'VVCI', 'VVCR', 'VVPQ', 'VVVD', \\\n",
    "                        'VVVH', 'VVPB', 'VVCT', 'VVDL']\n",
    "\n",
    "level_3_airport_iata = iata_icao_df[iata_icao_df['icao'].isin(level_3_airport_icao)]['iata'].tolist()\n",
    "level_2_airport_iata = iata_icao_df[iata_icao_df['icao'].isin(level_2_airport_icao)]['iata'].tolist()"
   ]
  },
  {
   "cell_type": "code",
   "execution_count": 29,
   "metadata": {},
   "outputs": [
    {
     "name": "stdout",
     "output_type": "stream",
     "text": [
      "total airport icao 81\n",
      "total airport iata 72\n"
     ]
    }
   ],
   "source": [
    "# print(\"total airport icao\",len(level_3_airport_icao) + len(level_2_airport_icao))\n",
    "# print(\"total airport iata\",len(level_3_airport_iata) + len(level_2_airport_iata))\n",
    "print(\"total airport icao\", len(set(level_3_airport_icao) | set(level_2_airport_icao)))\n",
    "print(\"total airport iata\", len(set(level_3_airport_iata) | set(level_2_airport_iata)))"
   ]
  },
  {
   "cell_type": "code",
   "execution_count": 12,
   "metadata": {},
   "outputs": [],
   "source": [
    "def str_datetime_to_month(str_datetime):\n",
    "    return str_datetime.split(\"-\")[1]\n",
    "\n",
    "def str_datetime_to_date(str_datetime):\n",
    "    return str_datetime.split(\"-\")[2]"
   ]
  },
  {
   "cell_type": "code",
   "execution_count": 13,
   "metadata": {},
   "outputs": [],
   "source": [
    "# Assuming ASEAN_countries is a predefined list or set of country names\n",
    "df['from/to ASEAN'] = df['Dep DOT Country Name'].isin(ASEAN_countries) | df['Arr DOT Country Name'].isin(ASEAN_countries)"
   ]
  },
  {
   "cell_type": "code",
   "execution_count": 14,
   "metadata": {},
   "outputs": [
    {
     "name": "stderr",
     "output_type": "stream",
     "text": [
      "/tmp/ipykernel_820659/884023261.py:2: SettingWithCopyWarning: \n",
      "A value is trying to be set on a copy of a slice from a DataFrame.\n",
      "Try using .loc[row_indexer,col_indexer] = value instead\n",
      "\n",
      "See the caveats in the documentation: https://pandas.pydata.org/pandas-docs/stable/user_guide/indexing.html#returning-a-view-versus-a-copy\n",
      "  asean_df['Month'] = asean_df['Time series'].apply(str_datetime_to_month)\n",
      "/tmp/ipykernel_820659/884023261.py:3: SettingWithCopyWarning: \n",
      "A value is trying to be set on a copy of a slice from a DataFrame.\n",
      "Try using .loc[row_indexer,col_indexer] = value instead\n",
      "\n",
      "See the caveats in the documentation: https://pandas.pydata.org/pandas-docs/stable/user_guide/indexing.html#returning-a-view-versus-a-copy\n",
      "  asean_df['Month'] = asean_df['Month'].astype(int)\n",
      "/tmp/ipykernel_820659/884023261.py:5: SettingWithCopyWarning: \n",
      "A value is trying to be set on a copy of a slice from a DataFrame.\n",
      "Try using .loc[row_indexer,col_indexer] = value instead\n",
      "\n",
      "See the caveats in the documentation: https://pandas.pydata.org/pandas-docs/stable/user_guide/indexing.html#returning-a-view-versus-a-copy\n",
      "  asean_df['Date'] = asean_df['Time series'].apply(str_datetime_to_date)\n",
      "/tmp/ipykernel_820659/884023261.py:6: SettingWithCopyWarning: \n",
      "A value is trying to be set on a copy of a slice from a DataFrame.\n",
      "Try using .loc[row_indexer,col_indexer] = value instead\n",
      "\n",
      "See the caveats in the documentation: https://pandas.pydata.org/pandas-docs/stable/user_guide/indexing.html#returning-a-view-versus-a-copy\n",
      "  asean_df['Date'] = asean_df['Date'].astype(int)\n"
     ]
    }
   ],
   "source": [
    "asean_df = df[df['from/to ASEAN'] == True]\n",
    "asean_df['Month'] = asean_df['Time series'].apply(str_datetime_to_month)\n",
    "asean_df['Month'] = asean_df['Month'].astype(int)\n",
    "\n",
    "asean_df['Date'] = asean_df['Time series'].apply(str_datetime_to_date)\n",
    "asean_df['Date'] = asean_df['Date'].astype(int)"
   ]
  },
  {
   "cell_type": "code",
   "execution_count": 15,
   "metadata": {},
   "outputs": [
    {
     "name": "stdout",
     "output_type": "stream",
     "text": [
      "Total flights:  18519489\n",
      "ASEAN flights:  1498466\n",
      "ASEAN percentage:  8.091292367732176 %\n"
     ]
    }
   ],
   "source": [
    "print(\"Total flights: \", len(df))\n",
    "print(\"ASEAN flights: \", len(df[df['from/to ASEAN'] == True]))\n",
    "print(\"ASEAN percentage: \", len(df[df['from/to ASEAN'] == True]) / len(df) * 100, \"%\")"
   ]
  },
  {
   "cell_type": "markdown",
   "metadata": {},
   "source": [
    "## Domestic"
   ]
  },
  {
   "cell_type": "code",
   "execution_count": 16,
   "metadata": {},
   "outputs": [],
   "source": [
    "asean_domestic_df = asean_df[asean_df['International/Domestic']== \"Domestic\"]"
   ]
  },
  {
   "cell_type": "code",
   "execution_count": 17,
   "metadata": {},
   "outputs": [
    {
     "name": "stdout",
     "output_type": "stream",
     "text": [
      "Domestic flights in ASEAN:  780715\n",
      "Domestic flights in ASEAN percentage:  52.10094857007099 %\n"
     ]
    }
   ],
   "source": [
    "print(\"Domestic flights in ASEAN: \", len(asean_domestic_df))\n",
    "print(\"Domestic flights in ASEAN percentage: \", len(asean_domestic_df) / len(asean_df) * 100, \"%\")"
   ]
  },
  {
   "cell_type": "markdown",
   "metadata": {},
   "source": [
    "## International"
   ]
  },
  {
   "cell_type": "code",
   "execution_count": 18,
   "metadata": {},
   "outputs": [],
   "source": [
    "asean_international_df = asean_df[asean_df['International/Domestic']== \"International\"]"
   ]
  },
  {
   "cell_type": "code",
   "execution_count": 19,
   "metadata": {},
   "outputs": [
    {
     "name": "stdout",
     "output_type": "stream",
     "text": [
      "International flights in ASEAN:  717751\n",
      "International flights in ASEAN percentage:  47.89905142992901 %\n"
     ]
    }
   ],
   "source": [
    "print(\"International flights in ASEAN: \", len(asean_international_df))\n",
    "print(\"International flights in ASEAN percentage: \", len(asean_international_df) / len(asean_df) * 100, \"%\")"
   ]
  },
  {
   "cell_type": "code",
   "execution_count": 20,
   "metadata": {},
   "outputs": [
    {
     "name": "stdout",
     "output_type": "stream",
     "text": [
      "Among ASEAN flights:  200142\n",
      "Among ASEAN flights percentage:  27.88460064841428 %\n"
     ]
    }
   ],
   "source": [
    "among_asean_df = asean_international_df[asean_international_df['Dep DOT Country Name'].isin(ASEAN_countries) & asean_international_df['Arr DOT Country Name'].isin(ASEAN_countries)]\n",
    "print(\"Among ASEAN flights: \", len(among_asean_df))\n",
    "print(\"Among ASEAN flights percentage: \", len(among_asean_df) / len(asean_international_df) * 100, \"%\")"
   ]
  },
  {
   "cell_type": "code",
   "execution_count": 21,
   "metadata": {},
   "outputs": [
    {
     "name": "stdout",
     "output_type": "stream",
     "text": [
      "Outbound flights in ASEAN:  258733\n",
      "Outbound flights in International ASEAN percentage:  36.04773800384813 %\n",
      "Inbound flights in ASEAN:  258876\n",
      "Inbound flights in International ASEAN percentage:  36.067661347737584 %\n"
     ]
    }
   ],
   "source": [
    "outbound_asean_df = asean_international_df[asean_international_df['Dep DOT Country Name'].isin(ASEAN_countries) & ~asean_international_df['Arr DOT Country Name'].isin(ASEAN_countries)]\n",
    "print(\"Outbound flights in ASEAN: \", len(outbound_asean_df))\n",
    "print(\"Outbound flights in International ASEAN percentage: \", len(outbound_asean_df) / len(asean_international_df) * 100, \"%\")\n",
    "inbound_asean_df = asean_international_df[asean_international_df['Arr DOT Country Name'].isin(ASEAN_countries) & ~asean_international_df['Dep DOT Country Name'].isin(ASEAN_countries)]\n",
    "print(\"Inbound flights in ASEAN: \", len(inbound_asean_df))\n",
    "print(\"Inbound flights in International ASEAN percentage: \", len(inbound_asean_df) / len(asean_international_df) * 100, \"%\")"
   ]
  },
  {
   "cell_type": "markdown",
   "metadata": {},
   "source": [
    "## Airport"
   ]
  },
  {
   "cell_type": "code",
   "execution_count": 22,
   "metadata": {},
   "outputs": [
    {
     "name": "stdout",
     "output_type": "stream",
     "text": [
      "Among ASEAN flights with level 3 airports among ASEAN:  133666\n",
      "Among ASEAN flights with level 3 airports among ASEAN percentage:  8.920189046665056 %\n",
      "Among ASEAN flights with level 2 airports among ASEAN:  214440\n",
      "Among ASEAN flights with level 2 airports among ASEAN percentage:  14.31063500940295 %\n"
     ]
    }
   ],
   "source": [
    "# lv3_airport_df = asean_df[asean_df['Dep Airport Code'].isin(level_3_airport_iata)  asean_df['Arr Airport Code'].isin(level_3_airport_iata)]\n",
    "# print(\"ASEAN flights with level 3 airports: \", len(lv3_airport_df))\n",
    "# print(\"ASEAN flights with level 3 airports percentage: \", len(lv3_airport_df) / len(asean_df) * 100, \"%\")\n",
    "\n",
    "among_lv3_airport_df = asean_df[asean_df['Dep Airport Code'].isin(level_3_airport_iata) & asean_df['Arr Airport Code'].isin(level_3_airport_iata)]\n",
    "print(\"Among ASEAN flights with level 3 airports among ASEAN: \", len(among_lv3_airport_df))\n",
    "print(\"Among ASEAN flights with level 3 airports among ASEAN percentage: \", len(among_lv3_airport_df) / len(asean_df) * 100, \"%\")\n",
    "\n",
    "among_lv2_airport_df = asean_df[asean_df['Dep Airport Code'].isin(level_2_airport_iata) & asean_df['Arr Airport Code'].isin(level_2_airport_iata)]\n",
    "print(\"Among ASEAN flights with level 2 airports among ASEAN: \", len(among_lv2_airport_df))\n",
    "print(\"Among ASEAN flights with level 2 airports among ASEAN percentage: \", len(among_lv2_airport_df) / len(asean_df) * 100, \"%\")"
   ]
  },
  {
   "cell_type": "code",
   "execution_count": 23,
   "metadata": {},
   "outputs": [
    {
     "name": "stdout",
     "output_type": "stream",
     "text": [
      "ASEAN flights with no level 2 and level 3 airports:  151703\n",
      "ASEAN flights with no level 2 and level 3 airports percentage:  10.123886694793208 %\n"
     ]
    }
   ],
   "source": [
    "not_lv2_and_lv3_airport_df = asean_df[~asean_df['Dep Airport Code'].isin(level_2_airport_iata) & ~asean_df['Arr Airport Code'].isin(level_2_airport_iata) & \\\n",
    "    ~asean_df['Dep Airport Code'].isin(level_3_airport_iata) & ~asean_df['Arr Airport Code'].isin(level_3_airport_iata)]\n",
    "print(\"ASEAN flights with no level 2 and level 3 airports: \", len(not_lv2_and_lv3_airport_df))\n",
    "print(\"ASEAN flights with no level 2 and level 3 airports percentage: \", len(not_lv2_and_lv3_airport_df) / len(asean_df) * 100, \"%\")"
   ]
  },
  {
   "cell_type": "code",
   "execution_count": 24,
   "metadata": {},
   "outputs": [
    {
     "name": "stdout",
     "output_type": "stream",
     "text": [
      "Outbound flights in ASEAN with level 3 airports:  126826\n",
      "Outbound flights in ASEAN with level 3 airports percentage:  8.463722233270559 %\n",
      "Outbound flights in ASEAN with level 2 airports:  125429\n",
      "Outbound flights in ASEAN with level 2 airports percentage:  8.370493558078728 %\n"
     ]
    }
   ],
   "source": [
    "outbound_lv3_airport_df = outbound_asean_df[outbound_asean_df['Dep Airport Code'].isin(level_3_airport_iata) & ~outbound_asean_df['Arr Airport Code'].isin(level_2_airport_iata) & ~outbound_asean_df['Arr Airport Code'].isin(level_3_airport_iata)]\n",
    "print(\"Outbound flights in ASEAN with level 3 airports: \", len(outbound_lv3_airport_df))\n",
    "print(\"Outbound flights in ASEAN with level 3 airports percentage: \", len(outbound_lv3_airport_df) / len(asean_df) * 100, \"%\")\n",
    "\n",
    "outbound_lv2_airport_df = outbound_asean_df[outbound_asean_df['Dep Airport Code'].isin(level_2_airport_iata) & ~outbound_asean_df['Arr Airport Code'].isin(level_2_airport_iata) & ~outbound_asean_df['Arr Airport Code'].isin(level_3_airport_iata)]\n",
    "print(\"Outbound flights in ASEAN with level 2 airports: \", len(outbound_lv2_airport_df))\n",
    "print(\"Outbound flights in ASEAN with level 2 airports percentage: \", len(outbound_lv2_airport_df) / len(asean_df) * 100, \"%\")"
   ]
  },
  {
   "cell_type": "code",
   "execution_count": null,
   "metadata": {},
   "outputs": [
    {
     "name": "stdout",
     "output_type": "stream",
     "text": [
      "ASEAN flights with level 2 and level 3 airports:  454453\n",
      "ASEAN flights with level 2 and level 3 airports percentage:  30.327881980638864 %\n"
     ]
    }
   ],
   "source": [
    "among_lv2_and_lv3_airport_df = asean_df[ asean_df['Dep Airport Code'].isin(level_2_airport_iata) & asean_df['Arr Airport Code'].isin(level_3_airport_iata) | \\\n",
    "    asean_df['Dep Airport Code'].isin(level_3_airport_iata) & asean_df['Arr Airport Code'].isin(level_2_airport_iata) | \\\n",
    "    asean_df['Dep Airport Code'].isin(level_2_airport_iata) & asean_df['Arr Airport Code'].isin(level_2_airport_iata) | \\\n",
    "    asean_df['Dep Airport Code'].isin(level_3_airport_iata) & asean_df['Arr Airport Code'].isin(level_3_airport_iata)]\n",
    "print(\"ASEAN flights with level 2 and level 3 airports: \", len(among_lv2_and_lv3_airport_df))\n",
    "print(\"ASEAN flights with level 2 and level 3 airports percentage: \", len(among_lv2_and_lv3_airport_df) / len(asean_df) * 100, \"%\")"
   ]
  },
  {
   "cell_type": "code",
   "execution_count": 26,
   "metadata": {},
   "outputs": [
    {
     "name": "stdout",
     "output_type": "stream",
     "text": [
      "Outbound flights in ASEAN with level 2 and level 3 airports:  252255\n",
      "Outbound flights in ASEAN with level 2 and level 3 airports percentage:  16.834215791349287 %\n"
     ]
    }
   ],
   "source": [
    "# outbound_lv2_and_lv3_airport_df = outbound_asean_df[(outbound_asean_df['Dep Airport Code'].isin(level_2_airport_iata) | outbound_asean_df['Arr Airport Code'].isin(level_3_airport_iata)) & \\\n",
    "#                                                     (~outbound_asean_df['Arr Airport Code'].isin(level_2_airport_iata) | ~outbound_asean_df['Dep Airport Code'].isin(level_3_airport_iata)) ]\n",
    "\n",
    "outbound_lv2_and_lv3_airport_df = outbound_asean_df[(outbound_asean_df['Dep Airport Code'].isin(level_2_airport_iata) & ~outbound_asean_df['Arr Airport Code'].isin(level_2_airport_iata) & ~outbound_asean_df['Arr Airport Code'].isin(level_3_airport_iata)) | \\\n",
    "                                                    (outbound_asean_df['Dep Airport Code'].isin(level_3_airport_iata) & ~outbound_asean_df['Arr Airport Code'].isin(level_2_airport_iata) & ~outbound_asean_df['Arr Airport Code'].isin(level_3_airport_iata)) ]\n",
    "                                                    \n",
    "print(\"Outbound flights in ASEAN with level 2 and level 3 airports: \", len(outbound_lv2_and_lv3_airport_df))\n",
    "print(\"Outbound flights in ASEAN with level 2 and level 3 airports percentage: \", len(outbound_lv2_and_lv3_airport_df) / len(asean_df) * 100, \"%\")"
   ]
  },
  {
   "cell_type": "markdown",
   "metadata": {},
   "source": [
    "## High Demands"
   ]
  },
  {
   "cell_type": "code",
   "execution_count": 27,
   "metadata": {},
   "outputs": [
    {
     "data": {
      "text/plain": [
       "Index(['Dep Airport Code', 'Arr Airport Code', 'International/Domestic',\n",
       "       'Time series', 'Dep DOT Country Name', 'Arr DOT Country Name',\n",
       "       'from/to ASEAN', 'Month', 'Date'],\n",
       "      dtype='object')"
      ]
     },
     "execution_count": 27,
     "metadata": {},
     "output_type": "execute_result"
    }
   ],
   "source": [
    "asean_df.columns"
   ]
  },
  {
   "cell_type": "code",
   "execution_count": 28,
   "metadata": {},
   "outputs": [
    {
     "name": "stdout",
     "output_type": "stream",
     "text": [
      "    Month  total_flights  avg_traffic_per_day  variance\n",
      "0       1         118976                 7932     29346\n",
      "1       2              0                    0         0\n",
      "2       3              0                    0         0\n",
      "3       4              0                    0         0\n",
      "4       5              0                    0         0\n",
      "5       6              0                    0         0\n",
      "6       7              0                    0         0\n",
      "7       8              0                    0         0\n",
      "8       9              0                    0         0\n",
      "9      10              0                    0         0\n",
      "10     11              0                    0         0\n",
      "11     12              0                    0         0\n"
     ]
    }
   ],
   "source": [
    "traffic_demand = asean_df.groupby('Month').agg(\n",
    "                    total_flights=('Month', 'size'),  # Total number of flights per month\n",
    "                ).reset_index()\n",
    "\n",
    "\n",
    "# Calculate days per month (assuming 2024, a leap year)\n",
    "# days_in_month = [31, 29, 31, 30, 31, 30, 31, 31, 30, 31, 30, 31]  # Jan to Dec for 2024\n",
    "days_in_month = 15\n",
    "traffic_demand['avg_traffic_per_day'] = traffic_demand['total_flights'] / days_in_month\n",
    "\n",
    "# Calculate daily counts per month for mean and variance\n",
    "daily_counts = asean_df.groupby(['Month', 'Date']).size().reset_index(name='daily_flights')\n",
    "monthly_stats = daily_counts.groupby('Month').agg(\n",
    "    # mean=('daily_flights', 'mean'),\n",
    "    variance=('daily_flights', 'var')\n",
    ").reset_index()\n",
    "\n",
    "# Merge the statistics into the traffic_demand DataFrame\n",
    "traffic_demand = traffic_demand.merge(monthly_stats, on='Month')\n",
    "\n",
    "\n",
    "# Ensure all months (1-12) are present, filling missing ones with zeros\n",
    "all_months = pd.DataFrame({'Month': range(1, 13)})\n",
    "traffic_demand = all_months.merge(traffic_demand, on='Month', how='left').fillna({\n",
    "    'total_flights': 0,\n",
    "    'avg_traffic_per_day': 0,\n",
    "    # 'mean': 0,\n",
    "    'variance': 0\n",
    "})\n",
    "\n",
    "# Convert total_flights to integer\n",
    "traffic_demand['total_flights'] = traffic_demand['total_flights'].astype(int)\n",
    "traffic_demand['avg_traffic_per_day'] = traffic_demand['avg_traffic_per_day'].round(0).astype(int)\n",
    "# traffic_demand['mean'] = traffic_demand['mean'].round(0).astype(int)\n",
    "traffic_demand['variance'] = traffic_demand['variance'].round(0).astype(int)\n",
    "\n",
    "print(traffic_demand)"
   ]
  },
  {
   "cell_type": "code",
   "execution_count": null,
   "metadata": {},
   "outputs": [],
   "source": []
  }
 ],
 "metadata": {
  "kernelspec": {
   "display_name": "aiatfm",
   "language": "python",
   "name": "python3"
  },
  "language_info": {
   "codemirror_mode": {
    "name": "ipython",
    "version": 3
   },
   "file_extension": ".py",
   "mimetype": "text/x-python",
   "name": "python",
   "nbconvert_exporter": "python",
   "pygments_lexer": "ipython3",
   "version": "3.11.10"
  }
 },
 "nbformat": 4,
 "nbformat_minor": 2
}
